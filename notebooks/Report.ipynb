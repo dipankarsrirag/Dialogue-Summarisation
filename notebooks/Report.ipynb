{
  "cells": [
    {
      "cell_type": "markdown",
      "metadata": {
        "colab_type": "text",
        "id": "view-in-github"
      },
      "source": [
        "<a href=\"https://colab.research.google.com/github/dipankarsrirag/Dialogue-Summarisation/blob/main/notebooks/Report.ipynb\" target=\"_parent\"><img src=\"https://colab.research.google.com/assets/colab-badge.svg\" alt=\"Open In Colab\"/></a>"
      ]
    },
    {
      "cell_type": "code",
      "execution_count": null,
      "metadata": {
        "id": "-2NcRvOtzVIw"
      },
      "outputs": [],
      "source": [
        "!pip install -U transformers\n",
        "!pip install -U accelerate\n",
        "!pip install -U datasets\n",
        "!pip install -U bertviz\n",
        "!pip install -U umap-learn\n",
        "!pip install -U sentencepiece\n",
        "!pip install -U urllib3\n",
        "!pip install py7zr"
      ]
    },
    {
      "cell_type": "markdown",
      "metadata": {
        "id": "10sCmmSRWWgc"
      },
      "source": [
        "\n",
        "# Comparative Analysis of Dialogue Summarization: Seq2Seq Transformer vs. Advanced Architectures like BART and T5\n",
        "\n",
        "**Group Name: Able Elba**\n",
        "\n",
        "|       Name      | Email Address | Student ID|\n",
        "|-----------------|---------------|-----------|\n",
        "| Dipankar Srirag | z5437514@ad.unsw.edu.au | z5437514 |\n",
        "| Pratyush Ravindrakumar Panda | z5410294@ad.unsw.edu.au | z5410294 |\n",
        "\n",
        "\n"
      ]
    },
    {
      "cell_type": "markdown",
      "metadata": {
        "id": "Uh986XWsYtOE"
      },
      "source": [
        "## Table of Contents\n",
        "\n",
        "1. [Introduction](##Introduction)\n",
        "    - [Motivation](###Motivation)\n",
        "    - [Problem Statement](###Problem-Statement)\n",
        "2. [Data Sources](##DataSources)\n",
        "3. [Methodology](#Methodology)\n",
        "    - [Dataset Description](#Dataset-Description)\n",
        "    - [Model Architecture](#Model-Architecture)\n",
        "        - [Seq2Seq Transformer](#Seq2Seq-Transformer)\n",
        "        - [BART](#BART)\n",
        "        - [T5](#T5)\n",
        "    - [Training Approach](#Training-Approach)\n",
        "4. [Experiment and Results](#Experiment-and-Results)\n",
        "    - [Experimental Setup](#Experimental-Setup)\n",
        "    - [Performance Metrics](#Performance-Metrics)\n",
        "    - [Results Analysis](#Results-Analysis)\n",
        "5. [Discussion](#Discussion)\n",
        "    - [Model Comparison](#Model-Comparison)\n",
        "    - [Implications](#Implications)\n",
        "6. [Conclusion](#Conclusion)\n",
        "    - [Summary of Findings](#Summary-of-Findings)\n",
        "    - [Future Work](#Future-Work)\n",
        "7. [References](#References)\n",
        "8. [Appendix](#Appendix)\n",
        "    - [Code](#Code)\n",
        "    - [Additional Data](#Additional-Data)"
      ]
    },
    {
      "cell_type": "markdown",
      "metadata": {
        "id": "iNwosuBmehLT"
      },
      "source": [
        "## Introduction\n",
        "\n",
        "This project aims to conduct a comprehensive comparative analysis of different approaches to dialog summarization, focusing on the effectiveness of a static embedding-based Seq2Seq Transformer model against more complex transformer architectures, such as BART and T5.\n",
        "\n",
        "### Problem Statement:\n",
        "Dialog summarization is an essential aspect of Natural Language Processing (NLP), aimed at condensing conversations or dialogues into concise summaries without losing the context or essential information. The challenge lies in accurately capturing the nuances and key points of dialogues, which can be complex and multi-threaded. This project seeks to understand and evaluate how different model architectures - particularly, a simpler Seq2Seq Transformer with static embeddings versus more advanced and dynamic models like BART (Bidirectional and Auto-Regressive Transformers) and T5 (Text-to-Text Transfer Transformer) - perform in the task of dialog summarization.\n",
        "\n",
        "### Motivation\n",
        "\n",
        "The motivation for this comparative study of dialogue summarization models stems from a keen interest in exploring the capabilities of different embedding techniques within transformer architectures, particularly focusing on the contrast between static embeddings and context-aware embeddings.\n",
        "\n",
        "1. **Exploration of Static vs. Context-Aware Embeddings:** This project is driven by a curiosity to understand how static embeddings, like GloVe, which are pre-trained on large corpora but lack contextual sensitivity, perform in comparison to the dynamic, context-aware embeddings used in advanced models like BART and T5. While context-aware embeddings are designed to adapt to the specific nuances of the input text, static embeddings offer a fixed representation of words irrespective of their context. This investigation seeks to unravel how these fundamentally different approaches to language understanding affect the quality of dialog summarization.\n",
        "\n",
        "2. **Contributing to the Understanding of Embedding Technologies:** Through this exploratory study, there is an opportunity to contribute valuable findings to the field of NLP regarding the efficacy of different embedding technologies. The results of this comparison could inform future research and development in NLP, particularly in the selection and optimization of embedding techniques for various language processing tasks.\n",
        "\n",
        "In summary, this project is driven by a genuine curiosity to explore and understand the performance dynamics of static and context-aware embeddings in dialogue summarization, thereby enriching our understanding of embedding technologies in NLP, and assist researchers and practitioners in choosing the most suitable model for their specific needs and constraints."
      ]
    },
    {
      "cell_type": "markdown",
      "metadata": {
        "id": "pvWONjWHxK-b"
      },
      "source": [
        "## Data Sources\n",
        "\n",
        "For this project, we are utilizing the DialogSum dataset, a comprehensive and large-scale dialogue summarization resource. This dataset encompasses 13,460 dialogues, each paired with manually labeled summaries and topics, providing a robust foundation for our study. The following details offer a clear guide to accessing and understanding this dataset:\n",
        "\n",
        "1. **Primary Source:** The DialogSum dataset is available through its original repository, which can be found at [DialogSum GitHub Repository](https://github.com/cylnlp/DialogSum). This source is used to construct a custom pipeline for our seq2seq model.\n",
        "\n",
        "2. **Secondary Source for Pretrained Models:** For the purpose of fine-tuning the pretrained models like BART and T5, the DialogSum dataset is also accessible via the Hugging Face Datasets library, specifically at [DialogSum on Hugging Face](https://huggingface.co/datasets/knkarthick/dialogsum). This version is tailored for integration with pretrained models.\n",
        "\n",
        "3. **Dataset Characteristics:** DialogSum stands out from other dialogue datasets, such as SAMSUM, due to its meticulous preprocessing. This preprocessing includes the correction of grammatical errors in the dialogues and the provision of well-annotated summaries in formal language. Such refinement enhances the dataset's utility for our project. The dataset also provides a hidden test set to perform summarisation on completely new unnanotated dialogues.\n",
        "\n",
        "4. **Empirical Study Reference:** An empirical study assessing the performance of Large Language Models (LLMs) on the DialogSum dataset is detailed in the corresponding [research paper](https://aclanthology.org/2021.findings-acl.449.pdf). This paper offers valuable insights and benchmarks that can inform and guide our analysis.\n",
        "\n",
        "By leveraging the DialogSum dataset from these specified sources, our project is positioned to conduct a thorough and informed comparison of the Seq2Seq Transformer model with static embeddings against advanced models like BART and T5, which employ context-aware embeddings."
      ]
    },
    {
      "cell_type": "code",
      "execution_count": null,
      "metadata": {
        "colab": {
          "base_uri": "https://localhost:8080/"
        },
        "id": "DWemnrRfBIXo",
        "outputId": "bc13cf98-0bf8-47f2-f22a-108cd4df8e72"
      },
      "outputs": [
        {
          "name": "stdout",
          "output_type": "stream",
          "text": [
            "Drive already mounted at /content/drive; to attempt to forcibly remount, call drive.mount(\"/content/drive\", force_remount=True).\n"
          ]
        }
      ],
      "source": [
        "from __future__ import unicode_literals, print_function, division\n",
        "from gensim.models import KeyedVectors\n",
        "from nltk.tokenize import WordPunctTokenizer\n",
        "import pandas as pd\n",
        "import torch\n",
        "import numpy as np\n",
        "from torch.utils.data import TensorDataset, DataLoader, RandomSampler\n",
        "import torch.optim as optim\n",
        "import torch.nn as nn\n",
        "import torch.nn.functional as F\n",
        "import json\n",
        "# from google.colab import drive\n",
        "from tqdm.notebook import tqdm\n",
        "\n",
        "from io import open\n",
        "\n",
        "import time\n",
        "import math\n",
        "\n",
        "import matplotlib.pyplot as plt\n",
        "plt.switch_backend('agg')\n",
        "\n",
        "MAX_LENGTH = 200\n",
        "\n",
        "# drive.mount('/content/drive')\n",
        "device = torch.device(\"cuda\" if torch.cuda.is_available() else \"cpu\")\n",
        "%matplotlib inline"
      ]
    },
    {
      "cell_type": "code",
      "execution_count": null,
      "metadata": {
        "id": "6O_O1498B59n"
      },
      "outputs": [],
      "source": [
        "class EncoderRNN(nn.Module):\n",
        "    def __init__(self, input_size, hidden_size, num_layers, embedding_matrix=None, bidirectional=True, freeze = True, dropout_p=0.1):\n",
        "        super(EncoderRNN, self).__init__()\n",
        "        self.hidden_size = hidden_size\n",
        "        self.num_layers = num_layers\n",
        "        self.num_directions = 2\n",
        "        self.bidirectional = bidirectional\n",
        "\n",
        "        if embedding_matrix is not None:\n",
        "            self.embedding = nn.Embedding.from_pretrained(\n",
        "                embedding_matrix, freeze=freeze, padding_idx=PAD_IDX)\n",
        "        else:\n",
        "            self.embedding = nn.Embedding(\n",
        "                input_size, hidden_size, padding_idx=PAD_IDX)\n",
        "\n",
        "        self.gru = nn.GRU(hidden_size, hidden_size, num_layers,\n",
        "                          batch_first=True, bidirectional=self.bidirectional)\n",
        "        self.dropout = nn.Dropout(dropout_p)\n",
        "\n",
        "    def forward(self, input):\n",
        "        embedded = self.dropout(self.embedding(input))\n",
        "        output, hidden = self.gru(embedded)\n",
        "\n",
        "        if self.bidirectional:\n",
        "            batch, seq_len, _ = output.shape\n",
        "            output = output.view(\n",
        "                (batch, seq_len, self.num_directions, self.hidden_size))\n",
        "\n",
        "            hidden = hidden.view(\n",
        "                self.num_layers, self.num_directions, batch, self.hidden_size)\n",
        "            output = output[:, :, 0, :]+output[:, :, 1, :]\n",
        "            hidden = hidden[:, 0, :, :] + hidden[0, 1, :, :]\n",
        "\n",
        "        return output, hidden\n",
        "\n",
        "\n",
        "class BahdanauAttention(nn.Module):\n",
        "    def __init__(self, hidden_size):\n",
        "        super(BahdanauAttention, self).__init__()\n",
        "        self.Wa = nn.Linear(hidden_size, hidden_size)\n",
        "        self.Ua = nn.Linear(hidden_size, hidden_size)\n",
        "        self.Va = nn.Linear(hidden_size, 1)\n",
        "\n",
        "    def forward(self, query, keys):\n",
        "        scores = self.Va(torch.tanh(self.Wa(query) + self.Ua(keys)))\n",
        "        scores = scores.squeeze(2).unsqueeze(1)\n",
        "\n",
        "        weights = F.softmax(scores, dim=-1)\n",
        "        context = torch.bmm(weights, keys)\n",
        "\n",
        "        return context, weights\n",
        "\n",
        "\n",
        "class AttnDecoderRNN(nn.Module):\n",
        "    def __init__(self, hidden_size, output_size, num_layers, embedding_matrix=None, freeze = True, dropout_p=0.1):\n",
        "        super(AttnDecoderRNN, self).__init__()\n",
        "        if embedding_matrix is not None:\n",
        "            self.embedding = nn.Embedding.from_pretrained(\n",
        "                embedding_matrix, freeze=freeze, padding_idx=PAD_IDX)\n",
        "        else:\n",
        "            self.embedding = nn.Embedding(\n",
        "                output_size, hidden_size, padding_idx=PAD_IDX)\n",
        "        self.attention = BahdanauAttention(hidden_size)\n",
        "        self.gru = nn.GRU(2 * hidden_size, hidden_size,\n",
        "                          num_layers, batch_first=True)\n",
        "        self.out = nn.Linear(hidden_size, output_size)\n",
        "        self.dropout = nn.Dropout(dropout_p)\n",
        "\n",
        "    def forward(self, encoder_outputs, encoder_hidden, target_tensor=None):\n",
        "        batch_size = encoder_outputs.size(0)\n",
        "        decoder_input = torch.empty(\n",
        "            batch_size, 1, dtype=torch.long, device=device).fill_(SOS_TOKEN)\n",
        "        decoder_hidden = encoder_hidden\n",
        "        decoder_outputs = []\n",
        "        attentions = []\n",
        "\n",
        "        for i in range(MAX_LENGTH):\n",
        "            decoder_output, decoder_hidden, attn_weights = self.forward_step(\n",
        "                decoder_input, decoder_hidden, encoder_outputs\n",
        "            )\n",
        "            decoder_outputs.append(decoder_output)\n",
        "            attentions.append(attn_weights)\n",
        "\n",
        "            if target_tensor is not None and i < target_tensor.size(1):\n",
        "                decoder_input = target_tensor[:, i].unsqueeze(1)\n",
        "            else:\n",
        "                _, topi = decoder_output.topk(1)\n",
        "                decoder_input = topi.squeeze(-1).detach()\n",
        "\n",
        "        decoder_outputs = torch.cat(decoder_outputs, dim=1)\n",
        "        decoder_outputs = F.log_softmax(decoder_outputs, dim=-1)\n",
        "        attentions = torch.cat(attentions, dim=1)\n",
        "\n",
        "        return decoder_outputs, decoder_hidden, attentions\n",
        "\n",
        "    def forward_step(self, input, hidden, encoder_outputs):\n",
        "        embedded = self.dropout(self.embedding(input))\n",
        "\n",
        "        last_layer_hidden = hidden[-1].unsqueeze(0)\n",
        "        query = last_layer_hidden.permute(1, 0, 2)\n",
        "        context, attn_weights = self.attention(query, encoder_outputs)\n",
        "        input_gru = torch.cat((embedded, context), dim=2)\n",
        "\n",
        "        output, hidden = self.gru(input_gru, hidden)\n",
        "        output = self.out(output)\n",
        "\n",
        "        return output, hidden, attn_weights\n",
        "\n",
        "class EarlyStopping:\n",
        "    def __init__(self, patience=5, delta=0.01):\n",
        "        self.patience = patience\n",
        "        self.counter = 0\n",
        "        self.best_loss = None\n",
        "        self.early_stop = False\n",
        "        self.delta = delta\n",
        "\n",
        "    def __call__(self, val_loss):\n",
        "        if self.best_loss is None:\n",
        "            self.best_loss = val_loss\n",
        "        elif val_loss > self.best_loss + self.delta:\n",
        "            self.counter += 1\n",
        "            if self.counter >= self.patience:\n",
        "                self.early_stop = True\n",
        "        else:\n",
        "            self.best_loss = val_loss\n",
        "            self.counter = 0"
      ]
    },
    {
      "cell_type": "code",
      "execution_count": null,
      "metadata": {
        "id": "CWewwreCvx1b"
      },
      "outputs": [],
      "source": [
        "def fix_contractions(text):\n",
        "    with open('/content/drive/My Drive/COMP9444/data/contractions.json', 'r') as f:\n",
        "        contractions = json.load(f)\n",
        "    tokens = text.split()\n",
        "    cleaned = []\n",
        "    for token in tokens:\n",
        "        cleaned.append(contractions.get(token, token))\n",
        "    return ' '.join(cleaned)\n",
        "\n",
        "\n",
        "def tokenize(text):\n",
        "    tokenizer = WordPunctTokenizer()\n",
        "    text = fix_contractions(text)\n",
        "    tokens = tokenizer.tokenize(text)\n",
        "    text = ' '.join(tokens).lower()\n",
        "    text = text.replace('# person1 #', '#person1#')\n",
        "    text = text.replace('# person2 #', '#person2#')\n",
        "    text = text.replace('# person3 #', '#person3#')\n",
        "    text = text.replace('# person4 #', '#person4#')\n",
        "    text = text.replace('# person5 #', '#person5#')\n",
        "    text = text.replace('# person6 #', '#person6#')\n",
        "    text = text.replace('# person7 #', '#person7#')\n",
        "    text = text.replace(' ,', ',')\n",
        "    text = text.replace(' .', '.')\n",
        "    text = text.replace(' ?', '?')\n",
        "    text = text.replace(' !', '!')\n",
        "    text = text.replace(\" ' \", \"'\")\n",
        "    text = text.replace(\"< \", \"<\")\n",
        "    text = text.replace(\" >\", \">\")\n",
        "    return text.split()\n",
        "\n",
        "\n",
        "def prepareData(src, trg):\n",
        "    dial = np.array(src)\n",
        "    summary = np.array(trg)\n",
        "    pairs = [[dial[i], summary[i]] for i in range(len(dial))]\n",
        "    return pairs\n",
        "\n",
        "\n",
        "def indexesFromSentence(sentence):\n",
        "    return [dictionary.get(word) for word in tokenize(sentence) if word in dictionary.keys()]\n",
        "\n",
        "\n",
        "def tensorFromSentence(sentence):\n",
        "    indexes = indexesFromSentence(sentence)\n",
        "    indexes.append(EOS_TOKEN)\n",
        "    return torch.tensor(indexes, dtype=torch.long, device=device).view(1, -1)\n",
        "\n",
        "\n",
        "def tensorsFromPair(pair):\n",
        "    input_tensor = tensorFromSentence(pair[0])\n",
        "    target_tensor = tensorFromSentence(pair[1])\n",
        "    return (input_tensor, target_tensor)\n",
        "\n",
        "\n",
        "def get_dataloader(pairs, batch_size):\n",
        "\n",
        "    num_pairs = len(pairs)\n",
        "\n",
        "    input_ids = np.full((num_pairs, MAX_LENGTH), PAD_IDX, dtype=np.int32)\n",
        "    target_ids = np.full((num_pairs, MAX_LENGTH), PAD_IDX, dtype=np.int32)\n",
        "\n",
        "    for idx, (inp, tgt) in enumerate(pairs):\n",
        "        inp_ids = indexesFromSentence(inp)\n",
        "        tgt_ids = indexesFromSentence(tgt)\n",
        "        inp_ids.append(EOS_TOKEN)\n",
        "        tgt_ids.append(EOS_TOKEN)\n",
        "        input_ids[idx, :len(inp_ids)] = inp_ids[:MAX_LENGTH]\n",
        "        target_ids[idx, :len(tgt_ids)] = tgt_ids[:MAX_LENGTH]\n",
        "\n",
        "    train_data = TensorDataset(torch.LongTensor(input_ids).to(device),\n",
        "                               torch.LongTensor(target_ids).to(device))\n",
        "\n",
        "    train_sampler = RandomSampler(train_data)\n",
        "    train_dataloader = DataLoader(\n",
        "        train_data, sampler=train_sampler, batch_size=batch_size)\n",
        "    return train_dataloader\n",
        "\n",
        "\n",
        "def train_epoch(dataloader, encoder, decoder, encoder_optimizer,\n",
        "                decoder_optimizer, criterion):\n",
        "\n",
        "    total_loss = 0\n",
        "    for data in dataloader:\n",
        "        input_tensor, target_tensor = data\n",
        "\n",
        "        encoder_optimizer.zero_grad()\n",
        "        decoder_optimizer.zero_grad()\n",
        "\n",
        "        encoder_outputs, encoder_hidden = encoder(input_tensor)\n",
        "        decoder_outputs, _, _ = decoder(\n",
        "            encoder_outputs, encoder_hidden, target_tensor)\n",
        "\n",
        "        loss = criterion(\n",
        "            decoder_outputs.view(-1, decoder_outputs.size(-1)),\n",
        "            target_tensor.view(-1)\n",
        "        )\n",
        "        loss.backward()\n",
        "\n",
        "        encoder_optimizer.step()\n",
        "        decoder_optimizer.step()\n",
        "\n",
        "        total_loss += loss.item()\n",
        "\n",
        "    return total_loss / len(dataloader)\n",
        "\n",
        "\n",
        "def validate_epoch(dataloader, encoder, decoder, criterion):\n",
        "    total_loss = 0\n",
        "    with torch.no_grad():\n",
        "        for data in dataloader:\n",
        "            input_tensor, target_tensor = data\n",
        "\n",
        "            encoder_outputs, encoder_hidden = encoder(input_tensor)\n",
        "            decoder_outputs, _, _ = decoder(encoder_outputs, encoder_hidden, target_tensor)\n",
        "\n",
        "            loss = criterion(\n",
        "                decoder_outputs.view(-1, decoder_outputs.size(-1)),\n",
        "                target_tensor.view(-1)\n",
        "            )\n",
        "\n",
        "            total_loss += loss.item()\n",
        "\n",
        "    return total_loss / len(dataloader)"
      ]
    },
    {
      "cell_type": "code",
      "execution_count": null,
      "metadata": {
        "id": "uP7le4_lEom5"
      },
      "outputs": [],
      "source": [
        "def train(train_dataloader, val_dataloader, encoder, decoder, n_epochs, learning_rate=0.001, momentum=0.9):\n",
        "\n",
        "    # Using Adam\n",
        "    model_type = \"Final\" if encoder.bidirectional else \"Lite\"\n",
        "    encoder_optimizer = optim.Adam(\n",
        "        encoder.parameters(), lr=learning_rate)\n",
        "\n",
        "    decoder_optimizer = optim.Adam(\n",
        "        decoder.parameters(), lr=learning_rate)\n",
        "\n",
        "    scheduler_encoder = optim.lr_scheduler.StepLR(\n",
        "        encoder_optimizer, step_size=10, gamma=0.5, verbose = True)\n",
        "    scheduler_decoder = optim.lr_scheduler.StepLR(\n",
        "        decoder_optimizer, step_size=10, gamma=0.5, verbose = True)\n",
        "    criterion = nn.CrossEntropyLoss(ignore_index=PAD_IDX)\n",
        "\n",
        "    train_losses = []\n",
        "    val_losses = []\n",
        "\n",
        "    best_loss = float('inf')\n",
        "    early_stopping = EarlyStopping(patience=3)\n",
        "\n",
        "    for epoch in tqdm(range(1, n_epochs + 1)):\n",
        "        train_loss = train_epoch(train_dataloader, encoder, decoder,\n",
        "                           encoder_optimizer, decoder_optimizer, criterion)\n",
        "        val_loss = validate_epoch(val_dataloader, encoder, decoder, criterion)\n",
        "\n",
        "        train_losses.append(train_loss)\n",
        "        val_losses.append(val_loss)\n",
        "\n",
        "        scheduler_encoder.step()\n",
        "        scheduler_decoder.step()\n",
        "\n",
        "        print(f'Epoch {epoch}, Train Loss: {train_loss}, Validation Loss: {val_loss}')\n",
        "\n",
        "        # Save model if it's the best on validation loss\n",
        "        if val_loss < best_loss:\n",
        "            best_loss = val_loss\n",
        "            torch.save(encoder.state_dict(), f'/content/drive/My Drive/COMP9444/models/Custom-{model_type}/encoder_best.pth')\n",
        "            torch.save(decoder.state_dict(), f'/content/drive/My Drive/COMP9444/models/Custom-{model_type}/decoder_best.pth')\n",
        "\n",
        "        early_stopping(val_loss)\n",
        "        if early_stopping.early_stop:\n",
        "            print(\"Early stopping triggered\")\n",
        "            break\n",
        "    return train_losses, val_losses\n",
        "\n",
        "\n",
        "def evaluate(encoder, decoder, sentence):\n",
        "    with torch.no_grad():\n",
        "        input_tensor = tensorFromSentence(sentence)\n",
        "\n",
        "        encoder_outputs, encoder_hidden = encoder(input_tensor)\n",
        "        decoder_outputs, decoder_hidden, decoder_attn = decoder(\n",
        "            encoder_outputs, encoder_hidden)\n",
        "\n",
        "        _, topi = decoder_outputs.topk(1)\n",
        "        decoded_ids = topi.squeeze()\n",
        "\n",
        "        decoded_words = []\n",
        "        for idx in decoded_ids:\n",
        "            if idx.item() == EOS_TOKEN:\n",
        "                decoded_words.append('<eos>')\n",
        "                break\n",
        "            decoded_words.append(vocab[idx.item()])\n",
        "    return decoded_words, decoder_attn\n",
        "\n",
        "\n",
        "def count_trainable_parameters(model):\n",
        "    return sum(p.numel() for p in model.parameters() if p.requires_grad)"
      ]
    },
    {
      "cell_type": "code",
      "execution_count": null,
      "metadata": {
        "id": "RUdVDa01BIXr"
      },
      "outputs": [],
      "source": [
        "train_df = pd.read_json('/content/drive/My Drive/COMP9444/data/raw/dialogsum/dialogsum.train.jsonl',\n",
        "                      lines=True)[['dialogue', 'summary']]\n",
        "dev_df = pd.read_json('/content/drive/My Drive/COMP9444/data/raw/dialogsum/dialogsum.dev.jsonl',\n",
        "                      lines=True)[['dialogue', 'summary']]\n",
        "\n",
        "train_src_tokens = list(train_df['dialogue'].apply(lambda x: tokenize(x)))\n",
        "train_trg_tokens = list(train_df['summary'].apply(lambda x: tokenize(x)))\n",
        "\n",
        "dev_src_tokens = list(dev_df['dialogue'].apply(lambda x: tokenize(x)))\n",
        "dev_trg_tokens = list(dev_df['summary'].apply(lambda x: tokenize(x)))\n",
        "\n",
        "train_src = [' '.join(sent) for sent in train_src_tokens]\n",
        "train_trg = [' '.join(sent) for sent in train_trg_tokens]\n",
        "\n",
        "dev_src = [' '.join(sent) for sent in dev_src_tokens]\n",
        "dev_trg = [' '.join(sent) for sent in dev_trg_tokens]"
      ]
    },
    {
      "cell_type": "code",
      "execution_count": null,
      "metadata": {
        "id": "Ei-Gwx8DBIXs"
      },
      "outputs": [],
      "source": [
        "word_vectors = KeyedVectors.load_word2vec_format(\n",
        "        '/content/drive/My Drive/COMP9444/models/GloVe-Word2Vec/glove.bin')\n",
        "\n",
        "pad_token = \"<pad>\"\n",
        "sos_token = \"<sos>\"\n",
        "eos_token = \"<eos>\"\n",
        "if pad_token not in word_vectors.key_to_index:\n",
        "    pad_index = len(word_vectors)\n",
        "    word_vectors.key_to_index[pad_token] = pad_index\n",
        "    word_vectors.index_to_key.append(pad_token)\n",
        "else:\n",
        "    pad_index = word_vectors.key_to_index[pad_token]\n",
        "\n",
        "PAD_IDX = pad_index\n",
        "SOS_TOKEN = word_vectors.key_to_index['<sos>']\n",
        "EOS_TOKEN = word_vectors.key_to_index['<eos>']\n",
        "\n",
        "vocab = list(word_vectors.key_to_index.keys())\n",
        "vocab_size = len(vocab)\n",
        "embedding_dim = word_vectors.get_vector('<sos>').shape[0]\n",
        "dictionary = word_vectors.key_to_index\n",
        "\n",
        "embedding_matrix = torch.zeros(vocab_size, embedding_dim)\n",
        "\n",
        "for i, word in enumerate(vocab):\n",
        "    if word == pad_token:\n",
        "        continue\n",
        "    embedding_matrix[i] = torch.Tensor(np.array(word_vectors[word]))\n",
        "embedding_matrix = embedding_matrix.to(device)"
      ]
    },
    {
      "cell_type": "code",
      "execution_count": null,
      "metadata": {
        "id": "4rcrj3A0KCQU"
      },
      "outputs": [],
      "source": [
        "hidden_size = 300\n",
        "batch_size = 32\n",
        "num_layers = 3\n",
        "freeze = True\n",
        "train_pairs = prepareData(train_src, train_trg)\n",
        "val_pairs = prepareData(dev_src, dev_trg)\n",
        "\n",
        "train_dataloader = get_dataloader(train_pairs, batch_size)\n",
        "val_dataloader = get_dataloader(val_pairs, batch_size)"
      ]
    },
    {
      "cell_type": "code",
      "execution_count": null,
      "metadata": {
        "id": "8Uwa3nJ5KX_U"
      },
      "outputs": [],
      "source": [
        "encoder_lite = EncoderRNN(input_size=vocab_size, hidden_size=hidden_size, num_layers=1, embedding_matrix=embedding_matrix, bidirectional=False, freeze=freeze).to(device)\n",
        "decoder_lite = AttnDecoderRNN(hidden_size=hidden_size, output_size=vocab_size, num_layers=1, embedding_matrix=embedding_matrix, freeze=freeze).to(device)"
      ]
    },
    {
      "cell_type": "code",
      "execution_count": null,
      "metadata": {
        "colab": {
          "base_uri": "https://localhost:8080/"
        },
        "id": "Cnewr7AcK66r",
        "outputId": "6f2dc022-3c77-470e-cd6d-1dc62891185e"
      },
      "outputs": [
        {
          "name": "stdout",
          "output_type": "stream",
          "text": [
            "Total trainable parameters for Custom-Lite: 3532238\n"
          ]
        }
      ],
      "source": [
        "total_params_encoder = count_trainable_parameters(encoder_lite)\n",
        "total_params_decoder = count_trainable_parameters(decoder_lite)\n",
        "total_params_attention = count_trainable_parameters(decoder_lite.attention)\n",
        "\n",
        "total_trainable_params = total_params_encoder + \\\n",
        "        total_params_decoder+total_params_attention\n",
        "print(f'Total trainable parameters for Custom-Lite: {total_trainable_params}')"
      ]
    },
    {
      "cell_type": "code",
      "execution_count": null,
      "metadata": {
        "id": "rLNI6ftqLLDM"
      },
      "outputs": [],
      "source": [
        "encoder_final = EncoderRNN(input_size=vocab_size, hidden_size=hidden_size, num_layers=num_layers, embedding_matrix=embedding_matrix, bidirectional=True, freeze=freeze).to(device)\n",
        "decoder_final = AttnDecoderRNN(hidden_size=hidden_size, output_size=vocab_size, num_layers=num_layers, embedding_matrix=embedding_matrix, freeze=freeze).to(device)"
      ]
    },
    {
      "cell_type": "code",
      "execution_count": null,
      "metadata": {
        "colab": {
          "base_uri": "https://localhost:8080/"
        },
        "id": "EAU1lWGnLbl6",
        "outputId": "82df6225-a91f-41d5-d5b4-18d383d0ac88"
      },
      "outputs": [
        {
          "name": "stdout",
          "output_type": "stream",
          "text": [
            "Total trainable parameters for Custom-Final: 8404838\n"
          ]
        }
      ],
      "source": [
        "total_params_encoder = count_trainable_parameters(encoder_final)\n",
        "total_params_decoder = count_trainable_parameters(decoder_final)\n",
        "total_params_attention = count_trainable_parameters(decoder_final.attention)\n",
        "\n",
        "total_trainable_params = total_params_encoder + \\\n",
        "        total_params_decoder+total_params_attention\n",
        "print(f'Total trainable parameters for Custom-Final: {total_trainable_params}')"
      ]
    },
    {
      "cell_type": "code",
      "execution_count": null,
      "metadata": {
        "colab": {
          "base_uri": "https://localhost:8080/",
          "height": 117,
          "referenced_widgets": [
            "64a8662c514d482e88b83db27eb1a3ca",
            "4ddad605fcb748eb88cb0bd6e5fd3bc7",
            "ba234feb3d1442e1a3cafbb1bc4b39e0",
            "25d62184bbae4ae58743e624cb950c36",
            "8bcb5aadd5634b40a15aee158ff88fc2",
            "ce93b5a9f5334011a60faafad1daa344",
            "bc77b98bd0ad40d395dbbb8ddc39e5fe",
            "1f21adaab8fa4d4b872cfe9779f5ed02",
            "cb763268d1414257b7207ed9bcb28f30",
            "1e1d12f57fa1480a8e2497f49aa2ebd3",
            "70207f5e5eda4347b5aa45fbaa4f7408"
          ]
        },
        "id": "uMqEBvJQLeMc",
        "outputId": "631615c0-7115-433b-a9c1-765de386cf17"
      },
      "outputs": [
        {
          "data": {
            "application/vnd.jupyter.widget-view+json": {
              "model_id": "64a8662c514d482e88b83db27eb1a3ca",
              "version_major": 2,
              "version_minor": 0
            },
            "text/plain": [
              "  0%|          | 0/4 [00:00<?, ?it/s]"
            ]
          },
          "metadata": {},
          "output_type": "display_data"
        },
        {
          "name": "stdout",
          "output_type": "stream",
          "text": [
            "Epoch 1, Train Loss: 5.024560518753835, Validation Loss: 4.418326437473297\n",
            "Epoch 2, Train Loss: 4.213348193046374, Validation Loss: 4.035864159464836\n",
            "Epoch 3, Train Loss: 3.819045704450363, Validation Loss: 3.8576340824365616\n",
            "Epoch 4, Train Loss: 3.5264511273457453, Validation Loss: 3.7315280735492706\n"
          ]
        }
      ],
      "source": [
        "train_losses, val_losses = train(train_dataloader, val_dataloader, encoder_lite, decoder_lite, 8, 0.001)"
      ]
    },
    {
      "cell_type": "code",
      "execution_count": null,
      "metadata": {
        "colab": {
          "base_uri": "https://localhost:8080/",
          "height": 564
        },
        "id": "bvYZVBVOKEaB",
        "outputId": "c8d6c0f4-41db-4a65-d0ae-7e2f0adc3192"
      },
      "outputs": [
        {
          "data": {
            "image/png": "[encoded data removed]",
            "text/plain": [
              "<Figure size 1000x600 with 1 Axes>"
            ]
          },
          "metadata": {},
          "output_type": "display_data"
        }
      ],
      "source": [
        "plt.figure(figsize=(10, 6))\n",
        "plt.plot(train_losses, label='Training Loss')\n",
        "plt.plot(val_losses, label='Validation Loss')\n",
        "plt.title('Training and Validation Losses')\n",
        "plt.xlabel('Epochs')\n",
        "plt.ylabel('Loss')\n",
        "plt.legend()\n",
        "plt.grid(True)\n",
        "plt.show()"
      ]
    },
    {
      "cell_type": "code",
      "execution_count": null,
      "metadata": {
        "id": "WzW00fd2KVFz"
      },
      "outputs": [],
      "source": [
        "sentence = \"#Person1#: What does your sister look like, Mike?\\n#Person2#: Well, she's tall and pretty.\\n#Person1#: Is she like you?\\n#Person2#: I suppose so. We're both friendly and easy-going.\\n#Person1#: Is she as clever as you?\\n#Person2#: No, she's not as clever as me.\\n#Person1#: Big head!\"\n",
        "gen_sum, attn_lite = evaluate(encoder_lite, decoder_lite, sentence)"
      ]
    },
    {
      "cell_type": "code",
      "execution_count": null,
      "metadata": {
        "colab": {
          "base_uri": "https://localhost:8080/"
        },
        "id": "mM4-10IaP1Y0",
        "outputId": "60f4a195-f473-4ca7-8f16-8b9fb32268f1"
      },
      "outputs": [
        {
          "name": "stdout",
          "output_type": "stream",
          "text": [
            "Generated Summary by Custom-Lite:\n",
            "#person1# and #person2# are talking about the girl who is not in love with her. <eos>\n"
          ]
        }
      ],
      "source": [
        "print(f\"Generated Summary by Custom-Lite:\\n{' '.join(gen_sum)}\")"
      ]
    },
    {
      "cell_type": "code",
      "execution_count": null,
      "metadata": {
        "colab": {
          "base_uri": "https://localhost:8080/",
          "height": 789
        },
        "id": "chhlKiVhQOsM",
        "outputId": "ecbe1315-1241-4cb8-c09d-0208e21afe76"
      },
      "outputs": [
        {
          "data": {
            "image/png": "[encoded data removed]",
            "text/plain": [
              "<Figure size 1000x800 with 2 Axes>"
            ]
          },
          "metadata": {},
          "output_type": "display_data"
        }
      ],
      "source": [
        "import seaborn as sns\n",
        "\n",
        "# Assuming `attention_weights` is your attention tensor, reshaped or squeezed as necessary\n",
        "attention_weights = attn_lite.squeeze(0).cpu().numpy()[:15, :15]  # Convert to numpy array\n",
        "\n",
        "# Assuming `input_words` and `output_words` are lists of words in the input and output sequences\n",
        "input_words = tokenize(sentence)\n",
        "output_words = gen_sum\n",
        "\n",
        "# Heatmap\n",
        "plt.figure(figsize=(10, 8))\n",
        "sns.heatmap(attention_weights, xticklabels=input_words[:15], yticklabels=output_words, cmap=\"viridis\")\n",
        "plt.xlabel('Input Sequence')\n",
        "plt.ylabel('Output Sequence')\n",
        "plt.title('Attention Weights')\n",
        "plt.xticks(rotation=90)\n",
        "plt.yticks(rotation=0)\n",
        "plt.show()"
      ]
    },
    {
      "cell_type": "code",
      "execution_count": null,
      "metadata": {
        "colab": {
          "base_uri": "https://localhost:8080/",
          "height": 117,
          "referenced_widgets": [
            "321f861d2b1641e1868a7d604dc76d07",
            "77929aa01eb14effa3297d11ee3968ba",
            "b5002844e9d54e2eb713649fa243ab8d",
            "e3da386cc30f4fe2b712f0c55d494e6b",
            "0d9bbfb968084376854ca7b876c91ef8",
            "dc7409cfb9d34911b5cd6f6c0cfafeee",
            "76b6c1f6ab3e4af492f571ffcef71922",
            "0f131b5fdb3043e7ac1d886bd57d1ce2",
            "83cfba27fe7f406f862aa39538c3a85a",
            "265b6117300b44729ef2197f192a1ad1",
            "9ad9b60536164696a861882c2f29833b"
          ]
        },
        "id": "xX_BBh55NxkB",
        "outputId": "13e4f8c2-f07b-4336-9ff0-c6322bef2578"
      },
      "outputs": [
        {
          "data": {
            "application/vnd.jupyter.widget-view+json": {
              "model_id": "321f861d2b1641e1868a7d604dc76d07",
              "version_major": 2,
              "version_minor": 0
            },
            "text/plain": [
              "  0%|          | 0/4 [00:00<?, ?it/s]"
            ]
          },
          "metadata": {},
          "output_type": "display_data"
        },
        {
          "name": "stdout",
          "output_type": "stream",
          "text": [
            "Epoch 1, Train Loss: 5.586481523513794, Validation Loss: 4.811170518398285\n",
            "Epoch 2, Train Loss: 4.590988135949159, Validation Loss: 4.339575558900833\n",
            "Epoch 3, Train Loss: 4.202124774761689, Validation Loss: 4.108392462134361\n",
            "Epoch 4, Train Loss: 3.9374119844192115, Validation Loss: 3.9775946140289307\n"
          ]
        }
      ],
      "source": [
        "train_losses, val_losses = train(train_dataloader, val_dataloader, encoder_final, decoder_final, 8, 0.001)"
      ]
    },
    {
      "cell_type": "code",
      "execution_count": null,
      "metadata": {
        "colab": {
          "base_uri": "https://localhost:8080/",
          "height": 564
        },
        "id": "2Xf81wKHKIZA",
        "outputId": "53fd2084-09c6-4f68-e0dd-f6fbb217ef37"
      },
      "outputs": [
        {
          "data": {
            "image/png": "[encoded data removed]",
            "text/plain": [
              "<Figure size 1000x600 with 1 Axes>"
            ]
          },
          "metadata": {},
          "output_type": "display_data"
        }
      ],
      "source": [
        "plt.figure(figsize=(10, 6))\n",
        "plt.plot(train_losses, label='Training Loss')\n",
        "plt.plot(val_losses, label='Validation Loss')\n",
        "plt.title('Training and Validation Losses')\n",
        "plt.xlabel('Epochs')\n",
        "plt.ylabel('Loss')\n",
        "plt.legend()\n",
        "plt.grid(True)\n",
        "plt.show()"
      ]
    },
    {
      "cell_type": "code",
      "execution_count": null,
      "metadata": {
        "id": "IFmQIHrXNCCy"
      },
      "outputs": [],
      "source": [
        "sentence = \"#Person1#: What does your sister look like, Mike?\\n#Person2#: Well, she's tall and pretty.\\n#Person1#: Is she like you?\\n#Person2#: I suppose so. We're both friendly and easy-going.\\n#Person1#: Is she as clever as you?\\n#Person2#: No, she's not as clever as me.\\n#Person1#: Big head!\"\n",
        "gen_sum, attn_final = evaluate(encoder_final, decoder_final, sentence)"
      ]
    },
    {
      "cell_type": "code",
      "execution_count": null,
      "metadata": {
        "colab": {
          "base_uri": "https://localhost:8080/",
          "height": 789
        },
        "id": "n0cY_t1rR9g4",
        "outputId": "1744f0e9-97f9-49cb-e846-031b9df13569"
      },
      "outputs": [
        {
          "data": {
            "image/png": "[encoded data removed]",
            "text/plain": [
              "<Figure size 1000x800 with 2 Axes>"
            ]
          },
          "metadata": {},
          "output_type": "display_data"
        }
      ],
      "source": [
        "import seaborn as sns\n",
        "\n",
        "# Assuming `attention_weights` is your attention tensor, reshaped or squeezed as necessary\n",
        "attention_weights = attn_final.squeeze(0).cpu().numpy()[:30, :30]  # Convert to numpy array\n",
        "\n",
        "# Assuming `input_words` and `output_words` are lists of words in the input and output sequences\n",
        "input_words = tokenize(sentence)\n",
        "output_words = gen_sum\n",
        "\n",
        "# Heatmap\n",
        "plt.figure(figsize=(10, 8))\n",
        "sns.heatmap(attention_weights, xticklabels=input_words[:30], yticklabels=output_words, cmap=\"viridis\")\n",
        "plt.xlabel('Input Sequence')\n",
        "plt.ylabel('Output Sequence')\n",
        "plt.title('Attention Weights')\n",
        "plt.xticks(rotation=90)\n",
        "plt.yticks(rotation=0)\n",
        "plt.show()"
      ]
    }
  ],
  "metadata": {
    "colab": {
      "include_colab_link": true,
      "provenance": []
    },
    "kernelspec": {
      "display_name": "Python 3",
      "name": "python3"
    },
    "language_info": {
      "codemirror_mode": {
        "name": "ipython",
        "version": 3
      },
      "file_extension": ".py",
      "mimetype": "text/x-python",
      "name": "python",
      "nbconvert_exporter": "python",
      "pygments_lexer": "ipython3",
      "version": "3.11.4"
    },
    "widgets": {
      "application/vnd.jupyter.widget-state+json": {
        "0d9bbfb968084376854ca7b876c91ef8": {
          "model_module": "@jupyter-widgets/base",
          "model_module_version": "1.2.0",
          "model_name": "LayoutModel",
          "state": {
            "_model_module": "@jupyter-widgets/base",
            "_model_module_version": "1.2.0",
            "_model_name": "LayoutModel",
            "_view_count": null,
            "_view_module": "@jupyter-widgets/base",
            "_view_module_version": "1.2.0",
            "_view_name": "LayoutView",
            "align_content": null,
            "align_items": null,
            "align_self": null,
            "border": null,
            "bottom": null,
            "display": null,
            "flex": null,
            "flex_flow": null,
            "grid_area": null,
            "grid_auto_columns": null,
            "grid_auto_flow": null,
            "grid_auto_rows": null,
            "grid_column": null,
            "grid_gap": null,
            "grid_row": null,
            "grid_template_areas": null,
            "grid_template_columns": null,
            "grid_template_rows": null,
            "height": null,
            "justify_content": null,
            "justify_items": null,
            "left": null,
            "margin": null,
            "max_height": null,
            "max_width": null,
            "min_height": null,
            "min_width": null,
            "object_fit": null,
            "object_position": null,
            "order": null,
            "overflow": null,
            "overflow_x": null,
            "overflow_y": null,
            "padding": null,
            "right": null,
            "top": null,
            "visibility": null,
            "width": null
          }
        },
        "0f131b5fdb3043e7ac1d886bd57d1ce2": {
          "model_module": "@jupyter-widgets/base",
          "model_module_version": "1.2.0",
          "model_name": "LayoutModel",
          "state": {
            "_model_module": "@jupyter-widgets/base",
            "_model_module_version": "1.2.0",
            "_model_name": "LayoutModel",
            "_view_count": null,
            "_view_module": "@jupyter-widgets/base",
            "_view_module_version": "1.2.0",
            "_view_name": "LayoutView",
            "align_content": null,
            "align_items": null,
            "align_self": null,
            "border": null,
            "bottom": null,
            "display": null,
            "flex": null,
            "flex_flow": null,
            "grid_area": null,
            "grid_auto_columns": null,
            "grid_auto_flow": null,
            "grid_auto_rows": null,
            "grid_column": null,
            "grid_gap": null,
            "grid_row": null,
            "grid_template_areas": null,
            "grid_template_columns": null,
            "grid_template_rows": null,
            "height": null,
            "justify_content": null,
            "justify_items": null,
            "left": null,
            "margin": null,
            "max_height": null,
            "max_width": null,
            "min_height": null,
            "min_width": null,
            "object_fit": null,
            "object_position": null,
            "order": null,
            "overflow": null,
            "overflow_x": null,
            "overflow_y": null,
            "padding": null,
            "right": null,
            "top": null,
            "visibility": null,
            "width": null
          }
        },
        "1e1d12f57fa1480a8e2497f49aa2ebd3": {
          "model_module": "@jupyter-widgets/base",
          "model_module_version": "1.2.0",
          "model_name": "LayoutModel",
          "state": {
            "_model_module": "@jupyter-widgets/base",
            "_model_module_version": "1.2.0",
            "_model_name": "LayoutModel",
            "_view_count": null,
            "_view_module": "@jupyter-widgets/base",
            "_view_module_version": "1.2.0",
            "_view_name": "LayoutView",
            "align_content": null,
            "align_items": null,
            "align_self": null,
            "border": null,
            "bottom": null,
            "display": null,
            "flex": null,
            "flex_flow": null,
            "grid_area": null,
            "grid_auto_columns": null,
            "grid_auto_flow": null,
            "grid_auto_rows": null,
            "grid_column": null,
            "grid_gap": null,
            "grid_row": null,
            "grid_template_areas": null,
            "grid_template_columns": null,
            "grid_template_rows": null,
            "height": null,
            "justify_content": null,
            "justify_items": null,
            "left": null,
            "margin": null,
            "max_height": null,
            "max_width": null,
            "min_height": null,
            "min_width": null,
            "object_fit": null,
            "object_position": null,
            "order": null,
            "overflow": null,
            "overflow_x": null,
            "overflow_y": null,
            "padding": null,
            "right": null,
            "top": null,
            "visibility": null,
            "width": null
          }
        },
        "1f21adaab8fa4d4b872cfe9779f5ed02": {
          "model_module": "@jupyter-widgets/base",
          "model_module_version": "1.2.0",
          "model_name": "LayoutModel",
          "state": {
            "_model_module": "@jupyter-widgets/base",
            "_model_module_version": "1.2.0",
            "_model_name": "LayoutModel",
            "_view_count": null,
            "_view_module": "@jupyter-widgets/base",
            "_view_module_version": "1.2.0",
            "_view_name": "LayoutView",
            "align_content": null,
            "align_items": null,
            "align_self": null,
            "border": null,
            "bottom": null,
            "display": null,
            "flex": null,
            "flex_flow": null,
            "grid_area": null,
            "grid_auto_columns": null,
            "grid_auto_flow": null,
            "grid_auto_rows": null,
            "grid_column": null,
            "grid_gap": null,
            "grid_row": null,
            "grid_template_areas": null,
            "grid_template_columns": null,
            "grid_template_rows": null,
            "height": null,
            "justify_content": null,
            "justify_items": null,
            "left": null,
            "margin": null,
            "max_height": null,
            "max_width": null,
            "min_height": null,
            "min_width": null,
            "object_fit": null,
            "object_position": null,
            "order": null,
            "overflow": null,
            "overflow_x": null,
            "overflow_y": null,
            "padding": null,
            "right": null,
            "top": null,
            "visibility": null,
            "width": null
          }
        },
        "25d62184bbae4ae58743e624cb950c36": {
          "model_module": "@jupyter-widgets/controls",
          "model_module_version": "1.5.0",
          "model_name": "HTMLModel",
          "state": {
            "_dom_classes": [],
            "_model_module": "@jupyter-widgets/controls",
            "_model_module_version": "1.5.0",
            "_model_name": "HTMLModel",
            "_view_count": null,
            "_view_module": "@jupyter-widgets/controls",
            "_view_module_version": "1.5.0",
            "_view_name": "HTMLView",
            "description": "",
            "description_tooltip": null,
            "layout": "IPY_MODEL_1e1d12f57fa1480a8e2497f49aa2ebd3",
            "placeholder": "​",
            "style": "IPY_MODEL_70207f5e5eda4347b5aa45fbaa4f7408",
            "value": " 4/4 [10:47&lt;00:00, 161.74s/it]"
          }
        },
        "265b6117300b44729ef2197f192a1ad1": {
          "model_module": "@jupyter-widgets/base",
          "model_module_version": "1.2.0",
          "model_name": "LayoutModel",
          "state": {
            "_model_module": "@jupyter-widgets/base",
            "_model_module_version": "1.2.0",
            "_model_name": "LayoutModel",
            "_view_count": null,
            "_view_module": "@jupyter-widgets/base",
            "_view_module_version": "1.2.0",
            "_view_name": "LayoutView",
            "align_content": null,
            "align_items": null,
            "align_self": null,
            "border": null,
            "bottom": null,
            "display": null,
            "flex": null,
            "flex_flow": null,
            "grid_area": null,
            "grid_auto_columns": null,
            "grid_auto_flow": null,
            "grid_auto_rows": null,
            "grid_column": null,
            "grid_gap": null,
            "grid_row": null,
            "grid_template_areas": null,
            "grid_template_columns": null,
            "grid_template_rows": null,
            "height": null,
            "justify_content": null,
            "justify_items": null,
            "left": null,
            "margin": null,
            "max_height": null,
            "max_width": null,
            "min_height": null,
            "min_width": null,
            "object_fit": null,
            "object_position": null,
            "order": null,
            "overflow": null,
            "overflow_x": null,
            "overflow_y": null,
            "padding": null,
            "right": null,
            "top": null,
            "visibility": null,
            "width": null
          }
        },
        "321f861d2b1641e1868a7d604dc76d07": {
          "model_module": "@jupyter-widgets/controls",
          "model_module_version": "1.5.0",
          "model_name": "HBoxModel",
          "state": {
            "_dom_classes": [],
            "_model_module": "@jupyter-widgets/controls",
            "_model_module_version": "1.5.0",
            "_model_name": "HBoxModel",
            "_view_count": null,
            "_view_module": "@jupyter-widgets/controls",
            "_view_module_version": "1.5.0",
            "_view_name": "HBoxView",
            "box_style": "",
            "children": [
              "IPY_MODEL_77929aa01eb14effa3297d11ee3968ba",
              "IPY_MODEL_b5002844e9d54e2eb713649fa243ab8d",
              "IPY_MODEL_e3da386cc30f4fe2b712f0c55d494e6b"
            ],
            "layout": "IPY_MODEL_0d9bbfb968084376854ca7b876c91ef8"
          }
        },
        "4ddad605fcb748eb88cb0bd6e5fd3bc7": {
          "model_module": "@jupyter-widgets/controls",
          "model_module_version": "1.5.0",
          "model_name": "HTMLModel",
          "state": {
            "_dom_classes": [],
            "_model_module": "@jupyter-widgets/controls",
            "_model_module_version": "1.5.0",
            "_model_name": "HTMLModel",
            "_view_count": null,
            "_view_module": "@jupyter-widgets/controls",
            "_view_module_version": "1.5.0",
            "_view_name": "HTMLView",
            "description": "",
            "description_tooltip": null,
            "layout": "IPY_MODEL_ce93b5a9f5334011a60faafad1daa344",
            "placeholder": "​",
            "style": "IPY_MODEL_bc77b98bd0ad40d395dbbb8ddc39e5fe",
            "value": "100%"
          }
        },
        "64a8662c514d482e88b83db27eb1a3ca": {
          "model_module": "@jupyter-widgets/controls",
          "model_module_version": "1.5.0",
          "model_name": "HBoxModel",
          "state": {
            "_dom_classes": [],
            "_model_module": "@jupyter-widgets/controls",
            "_model_module_version": "1.5.0",
            "_model_name": "HBoxModel",
            "_view_count": null,
            "_view_module": "@jupyter-widgets/controls",
            "_view_module_version": "1.5.0",
            "_view_name": "HBoxView",
            "box_style": "",
            "children": [
              "IPY_MODEL_4ddad605fcb748eb88cb0bd6e5fd3bc7",
              "IPY_MODEL_ba234feb3d1442e1a3cafbb1bc4b39e0",
              "IPY_MODEL_25d62184bbae4ae58743e624cb950c36"
            ],
            "layout": "IPY_MODEL_8bcb5aadd5634b40a15aee158ff88fc2"
          }
        },
        "70207f5e5eda4347b5aa45fbaa4f7408": {
          "model_module": "@jupyter-widgets/controls",
          "model_module_version": "1.5.0",
          "model_name": "DescriptionStyleModel",
          "state": {
            "_model_module": "@jupyter-widgets/controls",
            "_model_module_version": "1.5.0",
            "_model_name": "DescriptionStyleModel",
            "_view_count": null,
            "_view_module": "@jupyter-widgets/base",
            "_view_module_version": "1.2.0",
            "_view_name": "StyleView",
            "description_width": ""
          }
        },
        "76b6c1f6ab3e4af492f571ffcef71922": {
          "model_module": "@jupyter-widgets/controls",
          "model_module_version": "1.5.0",
          "model_name": "DescriptionStyleModel",
          "state": {
            "_model_module": "@jupyter-widgets/controls",
            "_model_module_version": "1.5.0",
            "_model_name": "DescriptionStyleModel",
            "_view_count": null,
            "_view_module": "@jupyter-widgets/base",
            "_view_module_version": "1.2.0",
            "_view_name": "StyleView",
            "description_width": ""
          }
        },
        "77929aa01eb14effa3297d11ee3968ba": {
          "model_module": "@jupyter-widgets/controls",
          "model_module_version": "1.5.0",
          "model_name": "HTMLModel",
          "state": {
            "_dom_classes": [],
            "_model_module": "@jupyter-widgets/controls",
            "_model_module_version": "1.5.0",
            "_model_name": "HTMLModel",
            "_view_count": null,
            "_view_module": "@jupyter-widgets/controls",
            "_view_module_version": "1.5.0",
            "_view_name": "HTMLView",
            "description": "",
            "description_tooltip": null,
            "layout": "IPY_MODEL_dc7409cfb9d34911b5cd6f6c0cfafeee",
            "placeholder": "​",
            "style": "IPY_MODEL_76b6c1f6ab3e4af492f571ffcef71922",
            "value": "100%"
          }
        },
        "83cfba27fe7f406f862aa39538c3a85a": {
          "model_module": "@jupyter-widgets/controls",
          "model_module_version": "1.5.0",
          "model_name": "ProgressStyleModel",
          "state": {
            "_model_module": "@jupyter-widgets/controls",
            "_model_module_version": "1.5.0",
            "_model_name": "ProgressStyleModel",
            "_view_count": null,
            "_view_module": "@jupyter-widgets/base",
            "_view_module_version": "1.2.0",
            "_view_name": "StyleView",
            "bar_color": null,
            "description_width": ""
          }
        },
        "8bcb5aadd5634b40a15aee158ff88fc2": {
          "model_module": "@jupyter-widgets/base",
          "model_module_version": "1.2.0",
          "model_name": "LayoutModel",
          "state": {
            "_model_module": "@jupyter-widgets/base",
            "_model_module_version": "1.2.0",
            "_model_name": "LayoutModel",
            "_view_count": null,
            "_view_module": "@jupyter-widgets/base",
            "_view_module_version": "1.2.0",
            "_view_name": "LayoutView",
            "align_content": null,
            "align_items": null,
            "align_self": null,
            "border": null,
            "bottom": null,
            "display": null,
            "flex": null,
            "flex_flow": null,
            "grid_area": null,
            "grid_auto_columns": null,
            "grid_auto_flow": null,
            "grid_auto_rows": null,
            "grid_column": null,
            "grid_gap": null,
            "grid_row": null,
            "grid_template_areas": null,
            "grid_template_columns": null,
            "grid_template_rows": null,
            "height": null,
            "justify_content": null,
            "justify_items": null,
            "left": null,
            "margin": null,
            "max_height": null,
            "max_width": null,
            "min_height": null,
            "min_width": null,
            "object_fit": null,
            "object_position": null,
            "order": null,
            "overflow": null,
            "overflow_x": null,
            "overflow_y": null,
            "padding": null,
            "right": null,
            "top": null,
            "visibility": null,
            "width": null
          }
        },
        "9ad9b60536164696a861882c2f29833b": {
          "model_module": "@jupyter-widgets/controls",
          "model_module_version": "1.5.0",
          "model_name": "DescriptionStyleModel",
          "state": {
            "_model_module": "@jupyter-widgets/controls",
            "_model_module_version": "1.5.0",
            "_model_name": "DescriptionStyleModel",
            "_view_count": null,
            "_view_module": "@jupyter-widgets/base",
            "_view_module_version": "1.2.0",
            "_view_name": "StyleView",
            "description_width": ""
          }
        },
        "b5002844e9d54e2eb713649fa243ab8d": {
          "model_module": "@jupyter-widgets/controls",
          "model_module_version": "1.5.0",
          "model_name": "FloatProgressModel",
          "state": {
            "_dom_classes": [],
            "_model_module": "@jupyter-widgets/controls",
            "_model_module_version": "1.5.0",
            "_model_name": "FloatProgressModel",
            "_view_count": null,
            "_view_module": "@jupyter-widgets/controls",
            "_view_module_version": "1.5.0",
            "_view_name": "ProgressView",
            "bar_style": "success",
            "description": "",
            "description_tooltip": null,
            "layout": "IPY_MODEL_0f131b5fdb3043e7ac1d886bd57d1ce2",
            "max": 4,
            "min": 0,
            "orientation": "horizontal",
            "style": "IPY_MODEL_83cfba27fe7f406f862aa39538c3a85a",
            "value": 4
          }
        },
        "ba234feb3d1442e1a3cafbb1bc4b39e0": {
          "model_module": "@jupyter-widgets/controls",
          "model_module_version": "1.5.0",
          "model_name": "FloatProgressModel",
          "state": {
            "_dom_classes": [],
            "_model_module": "@jupyter-widgets/controls",
            "_model_module_version": "1.5.0",
            "_model_name": "FloatProgressModel",
            "_view_count": null,
            "_view_module": "@jupyter-widgets/controls",
            "_view_module_version": "1.5.0",
            "_view_name": "ProgressView",
            "bar_style": "success",
            "description": "",
            "description_tooltip": null,
            "layout": "IPY_MODEL_1f21adaab8fa4d4b872cfe9779f5ed02",
            "max": 4,
            "min": 0,
            "orientation": "horizontal",
            "style": "IPY_MODEL_cb763268d1414257b7207ed9bcb28f30",
            "value": 4
          }
        },
        "bc77b98bd0ad40d395dbbb8ddc39e5fe": {
          "model_module": "@jupyter-widgets/controls",
          "model_module_version": "1.5.0",
          "model_name": "DescriptionStyleModel",
          "state": {
            "_model_module": "@jupyter-widgets/controls",
            "_model_module_version": "1.5.0",
            "_model_name": "DescriptionStyleModel",
            "_view_count": null,
            "_view_module": "@jupyter-widgets/base",
            "_view_module_version": "1.2.0",
            "_view_name": "StyleView",
            "description_width": ""
          }
        },
        "cb763268d1414257b7207ed9bcb28f30": {
          "model_module": "@jupyter-widgets/controls",
          "model_module_version": "1.5.0",
          "model_name": "ProgressStyleModel",
          "state": {
            "_model_module": "@jupyter-widgets/controls",
            "_model_module_version": "1.5.0",
            "_model_name": "ProgressStyleModel",
            "_view_count": null,
            "_view_module": "@jupyter-widgets/base",
            "_view_module_version": "1.2.0",
            "_view_name": "StyleView",
            "bar_color": null,
            "description_width": ""
          }
        },
        "ce93b5a9f5334011a60faafad1daa344": {
          "model_module": "@jupyter-widgets/base",
          "model_module_version": "1.2.0",
          "model_name": "LayoutModel",
          "state": {
            "_model_module": "@jupyter-widgets/base",
            "_model_module_version": "1.2.0",
            "_model_name": "LayoutModel",
            "_view_count": null,
            "_view_module": "@jupyter-widgets/base",
            "_view_module_version": "1.2.0",
            "_view_name": "LayoutView",
            "align_content": null,
            "align_items": null,
            "align_self": null,
            "border": null,
            "bottom": null,
            "display": null,
            "flex": null,
            "flex_flow": null,
            "grid_area": null,
            "grid_auto_columns": null,
            "grid_auto_flow": null,
            "grid_auto_rows": null,
            "grid_column": null,
            "grid_gap": null,
            "grid_row": null,
            "grid_template_areas": null,
            "grid_template_columns": null,
            "grid_template_rows": null,
            "height": null,
            "justify_content": null,
            "justify_items": null,
            "left": null,
            "margin": null,
            "max_height": null,
            "max_width": null,
            "min_height": null,
            "min_width": null,
            "object_fit": null,
            "object_position": null,
            "order": null,
            "overflow": null,
            "overflow_x": null,
            "overflow_y": null,
            "padding": null,
            "right": null,
            "top": null,
            "visibility": null,
            "width": null
          }
        },
        "dc7409cfb9d34911b5cd6f6c0cfafeee": {
          "model_module": "@jupyter-widgets/base",
          "model_module_version": "1.2.0",
          "model_name": "LayoutModel",
          "state": {
            "_model_module": "@jupyter-widgets/base",
            "_model_module_version": "1.2.0",
            "_model_name": "LayoutModel",
            "_view_count": null,
            "_view_module": "@jupyter-widgets/base",
            "_view_module_version": "1.2.0",
            "_view_name": "LayoutView",
            "align_content": null,
            "align_items": null,
            "align_self": null,
            "border": null,
            "bottom": null,
            "display": null,
            "flex": null,
            "flex_flow": null,
            "grid_area": null,
            "grid_auto_columns": null,
            "grid_auto_flow": null,
            "grid_auto_rows": null,
            "grid_column": null,
            "grid_gap": null,
            "grid_row": null,
            "grid_template_areas": null,
            "grid_template_columns": null,
            "grid_template_rows": null,
            "height": null,
            "justify_content": null,
            "justify_items": null,
            "left": null,
            "margin": null,
            "max_height": null,
            "max_width": null,
            "min_height": null,
            "min_width": null,
            "object_fit": null,
            "object_position": null,
            "order": null,
            "overflow": null,
            "overflow_x": null,
            "overflow_y": null,
            "padding": null,
            "right": null,
            "top": null,
            "visibility": null,
            "width": null
          }
        },
        "e3da386cc30f4fe2b712f0c55d494e6b": {
          "model_module": "@jupyter-widgets/controls",
          "model_module_version": "1.5.0",
          "model_name": "HTMLModel",
          "state": {
            "_dom_classes": [],
            "_model_module": "@jupyter-widgets/controls",
            "_model_module_version": "1.5.0",
            "_model_name": "HTMLModel",
            "_view_count": null,
            "_view_module": "@jupyter-widgets/controls",
            "_view_module_version": "1.5.0",
            "_view_name": "HTMLView",
            "description": "",
            "description_tooltip": null,
            "layout": "IPY_MODEL_265b6117300b44729ef2197f192a1ad1",
            "placeholder": "​",
            "style": "IPY_MODEL_9ad9b60536164696a861882c2f29833b",
            "value": " 4/4 [13:17&lt;00:00, 199.73s/it]"
          }
        }
      }
    }
  },
  "nbformat": 4,
  "nbformat_minor": 0
}
