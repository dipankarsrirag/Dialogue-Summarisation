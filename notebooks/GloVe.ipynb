{
 "cells": [
  {
   "cell_type": "code",
   "execution_count": 1,
   "metadata": {},
   "outputs": [],
   "source": [
    "from gensim.models import Word2Vec\n",
    "from gensim.models import KeyedVectors"
   ]
  },
  {
   "cell_type": "code",
   "execution_count": 2,
   "metadata": {},
   "outputs": [],
   "source": [
    "def load_glove_model(glove_file_path):\n",
    "    glove_model = KeyedVectors.load_word2vec_format(glove_file_path, binary=False, no_header=True)\n",
    "    return glove_model\n",
    "\n",
    "def get_corpus():\n",
    "    with open(\"../data/processed/glove_corpus\", \"r\") as f:\n",
    "        sentences = f.readlines()\n",
    "    return sentences"
   ]
  },
  {
   "cell_type": "code",
   "execution_count": 3,
   "metadata": {},
   "outputs": [],
   "source": [
    "sentences = get_corpus()\n",
    "tokens = [sent.split() for sent in sentences]"
   ]
  },
  {
   "cell_type": "code",
   "execution_count": 4,
   "metadata": {},
   "outputs": [],
   "source": [
    "base_model = Word2Vec(vector_size=300, min_count = 20, epochs=20)\n",
    "base_model.build_vocab(tokens)\n",
    "total_examples = base_model.corpus_count"
   ]
  },
  {
   "cell_type": "code",
   "execution_count": 5,
   "metadata": {},
   "outputs": [
    {
     "data": {
      "text/plain": [
       "[('onto', 0.18589073419570923),\n",
       " ('buildings', 0.18523985147476196),\n",
       " ('bungee', 0.17935125529766083),\n",
       " ('accidents', 0.17021802067756653),\n",
       " ('fair', 0.16874520480632782),\n",
       " ('figures.', 0.16867220401763916),\n",
       " ('families', 0.16840752959251404),\n",
       " ('size.', 0.1681390255689621),\n",
       " ('individual', 0.16532500088214874),\n",
       " ('department?', 0.16068579256534576)]"
      ]
     },
     "execution_count": 5,
     "metadata": {},
     "output_type": "execute_result"
    }
   ],
   "source": [
    "base_model.wv.most_similar('what', topn=10)"
   ]
  },
  {
   "cell_type": "code",
   "execution_count": 6,
   "metadata": {},
   "outputs": [],
   "source": [
    "corpus_path = '../embeds/GloVe/glove.840B.300d.txt'\n",
    "corpus_model = load_glove_model(corpus_path)\n",
    "base_model.build_vocab([list(corpus_model.key_to_index.keys())], update=True)"
   ]
  },
  {
   "cell_type": "code",
   "execution_count": 7,
   "metadata": {},
   "outputs": [
    {
     "name": "stderr",
     "output_type": "stream",
     "text": [
      "/Library/Frameworks/Python.framework/Versions/3.11/lib/python3.11/site-packages/gensim/models/keyedvectors.py:849: RuntimeWarning: invalid value encountered in divide\n",
      "  dists = dot(self.vectors[clip_start:clip_end], mean) / self.norms[clip_start:clip_end]\n"
     ]
    },
    {
     "data": {
      "text/plain": [
       "[('why', 0.8907533884048462),\n",
       " ('how', 0.8789804577827454),\n",
       " ('know', 0.8698911666870117),\n",
       " ('think', 0.8441894054412842),\n",
       " ('something', 0.8239272236824036),\n",
       " ('thing', 0.8229970335960388),\n",
       " ('that', 0.8225524425506592),\n",
       " ('exactly', 0.8140221238136292),\n",
       " ('thought', 0.8101893663406372),\n",
       " ('tell', 0.8013006448745728)]"
      ]
     },
     "execution_count": 7,
     "metadata": {},
     "output_type": "execute_result"
    }
   ],
   "source": [
    "corpus_model.most_similar('what', topn=10)"
   ]
  },
  {
   "cell_type": "code",
   "execution_count": 8,
   "metadata": {},
   "outputs": [],
   "source": [
    "base_model.train(tokens, total_examples=total_examples, epochs=base_model.epochs)\n",
    "base_model_wv = base_model.wv"
   ]
  },
  {
   "cell_type": "code",
   "execution_count": 9,
   "metadata": {},
   "outputs": [
    {
     "data": {
      "text/plain": [
       "[('how', 0.4596197009086609),\n",
       " ('anything', 0.4548874795436859),\n",
       " ('where', 0.36545345187187195),\n",
       " (\"what's\", 0.36517012119293213),\n",
       " ('whatever', 0.3540089428424835),\n",
       " ('well...', 0.3507554829120636),\n",
       " ('what?', 0.33418241143226624),\n",
       " ('something', 0.33149653673171997),\n",
       " ('why', 0.3289160132408142),\n",
       " ('nothing', 0.2993703782558441)]"
      ]
     },
     "execution_count": 9,
     "metadata": {},
     "output_type": "execute_result"
    }
   ],
   "source": [
    "base_model_wv.most_similar('what', topn=10)"
   ]
  },
  {
   "cell_type": "code",
   "execution_count": 10,
   "metadata": {},
   "outputs": [
    {
     "data": {
      "text/plain": [
       "[(\"doesn't\", 0.5743285417556763),\n",
       " ('did', 0.40398046374320984),\n",
       " ('do', 0.38602036237716675),\n",
       " (\"doesn't.\", 0.3456938564777374),\n",
       " ('does,', 0.34460973739624023),\n",
       " ('is', 0.3222086429595947),\n",
       " ('needs', 0.3137502670288086),\n",
       " ('prefers', 0.3080991506576538),\n",
       " ('makes', 0.3018656075000763),\n",
       " ('likes', 0.2977132797241211)]"
      ]
     },
     "execution_count": 10,
     "metadata": {},
     "output_type": "execute_result"
    }
   ],
   "source": [
    "base_model_wv.most_similar('does', topn=10)"
   ]
  },
  {
   "cell_type": "code",
   "execution_count": 11,
   "metadata": {},
   "outputs": [],
   "source": [
    "base_model_wv.save_word2vec_format('../models/GloVe-Word2Vec/glove.bin')"
   ]
  }
 ],
 "metadata": {
  "kernelspec": {
   "display_name": "Python 3",
   "language": "python",
   "name": "python3"
  },
  "language_info": {
   "codemirror_mode": {
    "name": "ipython",
    "version": 3
   },
   "file_extension": ".py",
   "mimetype": "text/x-python",
   "name": "python",
   "nbconvert_exporter": "python",
   "pygments_lexer": "ipython3",
   "version": "3.11.4"
  }
 },
 "nbformat": 4,
 "nbformat_minor": 2
}
