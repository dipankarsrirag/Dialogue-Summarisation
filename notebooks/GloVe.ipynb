{
 "cells": [
  {
   "cell_type": "code",
   "execution_count": 1,
   "metadata": {},
   "outputs": [],
   "source": [
    "from gensim.models import Word2Vec\n",
    "from gensim.models import KeyedVectors"
   ]
  },
  {
   "cell_type": "code",
   "execution_count": 2,
   "metadata": {},
   "outputs": [],
   "source": [
    "def load_glove_model(glove_file_path):\n",
    "    glove_model = KeyedVectors.load_word2vec_format(glove_file_path, binary=False, no_header=True)\n",
    "    return glove_model\n",
    "\n",
    "def get_corpus():\n",
    "    with open(\"../data/processed/glove_corpus\", \"r\") as f:\n",
    "        sentences = f.readlines()\n",
    "    return sentences"
   ]
  },
  {
   "cell_type": "code",
   "execution_count": 3,
   "metadata": {},
   "outputs": [],
   "source": [
    "sentences = get_corpus()\n",
    "tokens = [sent.split() for sent in sentences]"
   ]
  },
  {
   "cell_type": "code",
   "execution_count": 4,
   "metadata": {},
   "outputs": [],
   "source": [
    "base_model = Word2Vec(vector_size=300, min_count = 20, epochs=20)\n",
    "base_model.build_vocab(tokens)\n",
    "total_examples = base_model.corpus_count"
   ]
  },
  {
   "cell_type": "code",
   "execution_count": 5,
   "metadata": {},
   "outputs": [
    {
     "data": {
      "text/plain": [
       "[('entertainment', 0.22759167850017548),\n",
       " ('weeks,', 0.19057254493236542),\n",
       " ('unless', 0.17623214423656464),\n",
       " ('treatment', 0.1741826832294464),\n",
       " ('wooden', 0.17394684255123138),\n",
       " ('learn', 0.17307960987091064),\n",
       " ('point.', 0.17082807421684265),\n",
       " ('welcome.', 0.17074212431907654),\n",
       " ('beijing.', 0.17042849957942963),\n",
       " ('administrative', 0.1670820116996765)]"
      ]
     },
     "execution_count": 5,
     "metadata": {},
     "output_type": "execute_result"
    }
   ],
   "source": [
    "base_model.wv.most_similar('girl', topn=10)"
   ]
  },
  {
   "cell_type": "code",
   "execution_count": 6,
   "metadata": {},
   "outputs": [],
   "source": [
    "corpus_path = '../embeds/GloVe/glove.840B.300d.txt'\n",
    "corpus_model = load_glove_model(corpus_path)\n",
    "base_model.build_vocab([list(corpus_model.key_to_index.keys())], update=True)"
   ]
  },
  {
   "cell_type": "code",
   "execution_count": 7,
   "metadata": {},
   "outputs": [
    {
     "name": "stderr",
     "output_type": "stream",
     "text": [
      "/Library/Frameworks/Python.framework/Versions/3.11/lib/python3.11/site-packages/gensim/models/keyedvectors.py:849: RuntimeWarning: invalid value encountered in divide\n",
      "  dists = dot(self.vectors[clip_start:clip_end], mean) / self.norms[clip_start:clip_end]\n"
     ]
    },
    {
     "data": {
      "text/plain": [
       "[('girls', 0.8245455622673035),\n",
       " ('boy', 0.8148322105407715),\n",
       " ('woman', 0.7700793147087097),\n",
       " ('lady', 0.7557979226112366),\n",
       " ('teen', 0.7407615780830383),\n",
       " ('sexy', 0.7246244549751282),\n",
       " ('blonde', 0.6959359645843506),\n",
       " ('teenage', 0.6914814114570618),\n",
       " ('chick', 0.6885996460914612),\n",
       " ('babe', 0.688468873500824)]"
      ]
     },
     "execution_count": 7,
     "metadata": {},
     "output_type": "execute_result"
    }
   ],
   "source": [
    "corpus_model.most_similar('girl', topn=10)"
   ]
  },
  {
   "cell_type": "code",
   "execution_count": 8,
   "metadata": {},
   "outputs": [],
   "source": [
    "fine_model = Word2Vec(vector_size=300, min_count = 20, epochs=20)\n",
    "fine_model.build_vocab(tokens)"
   ]
  },
  {
   "cell_type": "code",
   "execution_count": 9,
   "metadata": {},
   "outputs": [],
   "source": [
    "fine_model.train(tokens, total_examples=total_examples, epochs=fine_model.epochs)\n",
    "fine_model_wv = fine_model.wv"
   ]
  },
  {
   "cell_type": "code",
   "execution_count": 10,
   "metadata": {},
   "outputs": [
    {
     "data": {
      "text/plain": [
       "[('looked', 0.4677370488643646),\n",
       " ('looking', 0.44000688195228577),\n",
       " ('looks', 0.4197654128074646),\n",
       " ('fit', 0.40606167912483215),\n",
       " ('move', 0.39111045002937317),\n",
       " ('moment.', 0.34159228205680847),\n",
       " ('all!', 0.3370228111743927),\n",
       " ('try', 0.33682525157928467),\n",
       " ('pick', 0.3343583047389984),\n",
       " ('last.', 0.3326244354248047)]"
      ]
     },
     "execution_count": 10,
     "metadata": {},
     "output_type": "execute_result"
    }
   ],
   "source": [
    "fine_model_wv.most_similar('look', topn=10)"
   ]
  },
  {
   "cell_type": "code",
   "execution_count": null,
   "metadata": {},
   "outputs": [
    {
     "data": {
      "text/plain": [
       "[(\"doesn't\", 0.5743285417556763),\n",
       " ('did', 0.40398046374320984),\n",
       " ('do', 0.38602036237716675),\n",
       " (\"doesn't.\", 0.3456938564777374),\n",
       " ('does,', 0.34460973739624023),\n",
       " ('is', 0.3222086429595947),\n",
       " ('needs', 0.3137502670288086),\n",
       " ('prefers', 0.3080991506576538),\n",
       " ('makes', 0.3018656075000763),\n",
       " ('likes', 0.2977132797241211)]"
      ]
     },
     "execution_count": 10,
     "metadata": {},
     "output_type": "execute_result"
    }
   ],
   "source": [
    "base_model_wv.most_similar('does', topn=10)"
   ]
  },
  {
   "cell_type": "code",
   "execution_count": 17,
   "metadata": {},
   "outputs": [
    {
     "data": {
      "text/plain": [
       "[('pleasure.', 0.5820543766021729),\n",
       " ('nice', 0.4965497553348541),\n",
       " ('pleasure,', 0.47940748929977417),\n",
       " ('pleasant', 0.41643211245536804),\n",
       " ('tom.', 0.39964956045150757),\n",
       " ('great', 0.3727753758430481),\n",
       " ('grandma', 0.37242355942726135),\n",
       " ('lovely', 0.3650278151035309),\n",
       " ('thoughtful', 0.36045509576797485),\n",
       " ('talent', 0.35631096363067627)]"
      ]
     },
     "execution_count": 17,
     "metadata": {},
     "output_type": "execute_result"
    }
   ],
   "source": [
    "fine_model.wv.most_similar(\"pleasure\")"
   ]
  },
  {
   "cell_type": "code",
   "execution_count": 16,
   "metadata": {},
   "outputs": [
    {
     "data": {
      "text/plain": [
       "[('birthday.', 0.6442477703094482),\n",
       " ('wedding', 0.6132053732872009),\n",
       " ('birthday,', 0.5925280451774597),\n",
       " (\"wife's\", 0.5911794900894165),\n",
       " ('surprise', 0.526892364025116),\n",
       " (\"mother's\", 0.5216265320777893),\n",
       " ('party?', 0.5086395144462585),\n",
       " (\"sister's\", 0.5069356560707092),\n",
       " (\"mom's\", 0.5007989406585693),\n",
       " ('birthday?', 0.4949586093425751)]"
      ]
     },
     "execution_count": 16,
     "metadata": {},
     "output_type": "execute_result"
    }
   ],
   "source": [
    "fine_model.wv.most_similar(\"birthday\")"
   ]
  },
  {
   "cell_type": "code",
   "execution_count": 15,
   "metadata": {},
   "outputs": [
    {
     "data": {
      "text/plain": [
       "[('great', 0.6634839177131653),\n",
       " ('lovely', 0.5981692671775818),\n",
       " ('fantastic', 0.5609707832336426),\n",
       " ('beautiful', 0.5124997496604919),\n",
       " ('pleasant', 0.4743961989879608),\n",
       " ('perfect', 0.45208853483200073),\n",
       " ('good', 0.4515893757343292),\n",
       " ('fun', 0.4398481547832489),\n",
       " ('nice', 0.4351896345615387),\n",
       " ('clever', 0.4205162525177002)]"
      ]
     },
     "execution_count": 15,
     "metadata": {},
     "output_type": "execute_result"
    }
   ],
   "source": [
    "fine_model.wv.most_similar(\"wonderful\")"
   ]
  },
  {
   "cell_type": "code",
   "execution_count": null,
   "metadata": {},
   "outputs": [],
   "source": []
  }
 ],
 "metadata": {
  "kernelspec": {
   "display_name": "Python 3",
   "language": "python",
   "name": "python3"
  },
  "language_info": {
   "codemirror_mode": {
    "name": "ipython",
    "version": 3
   },
   "file_extension": ".py",
   "mimetype": "text/x-python",
   "name": "python",
   "nbconvert_exporter": "python",
   "pygments_lexer": "ipython3",
   "version": "3.11.4"
  }
 },
 "nbformat": 4,
 "nbformat_minor": 2
}
