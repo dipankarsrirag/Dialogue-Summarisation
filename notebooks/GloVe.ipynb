{
 "cells": [
  {
   "cell_type": "code",
   "execution_count": 1,
   "metadata": {},
   "outputs": [],
   "source": [
    "from gensim.models import Word2Vec\n",
    "from gensim.models import KeyedVectors"
   ]
  },
  {
   "cell_type": "code",
   "execution_count": 2,
   "metadata": {},
   "outputs": [],
   "source": [
    "def load_glove_model(glove_file_path):\n",
    "    glove_model = KeyedVectors.load_word2vec_format(glove_file_path, binary=False, no_header=True)\n",
    "    return glove_model\n",
    "\n",
    "def get_corpus():\n",
    "    with open(\"../data/processed/corpus\", \"r\") as f:\n",
    "        sentences = f.readlines()\n",
    "    return sentences"
   ]
  },
  {
   "cell_type": "code",
   "execution_count": 3,
   "metadata": {},
   "outputs": [],
   "source": [
    "sentences = get_corpus()\n",
    "tokens = [sent.split() for sent in sentences]"
   ]
  },
  {
   "cell_type": "code",
   "execution_count": 4,
   "metadata": {},
   "outputs": [],
   "source": [
    "base_model = Word2Vec(vector_size=300, min_count = 20, epochs=20)\n",
    "base_model.build_vocab(tokens)\n",
    "total_examples = base_model.corpus_count"
   ]
  },
  {
   "cell_type": "code",
   "execution_count": 5,
   "metadata": {},
   "outputs": [
    {
     "data": {
      "text/plain": [
       "[('will,', 0.19918687641620636),\n",
       " ('big,', 0.18685618042945862),\n",
       " ('across', 0.1850905865430832),\n",
       " ('admires', 0.1844509094953537),\n",
       " ('april', 0.17851804196834564),\n",
       " ('break.', 0.17759983241558075),\n",
       " ('article', 0.17517882585525513),\n",
       " ('no', 0.17481420934200287),\n",
       " ('fever.', 0.17363373935222626),\n",
       " ('(', 0.17225077748298645)]"
      ]
     },
     "execution_count": 5,
     "metadata": {},
     "output_type": "execute_result"
    }
   ],
   "source": [
    "base_model.wv.most_similar('#person1#', topn=10)"
   ]
  },
  {
   "cell_type": "code",
   "execution_count": 6,
   "metadata": {},
   "outputs": [],
   "source": [
    "corpus_path = '../embeds/GloVe/glove.corpus.300d.txt'\n",
    "corpus_model = load_glove_model(corpus_path)\n",
    "base_model.build_vocab([list(corpus_model.key_to_index.keys())], update=True)"
   ]
  },
  {
   "cell_type": "code",
   "execution_count": 7,
   "metadata": {},
   "outputs": [
    {
     "data": {
      "text/plain": [
       "[('tells', 0.668127179145813),\n",
       " ('asks', 0.6325467228889465),\n",
       " ('#person2#', 0.5329562425613403),\n",
       " ('wants', 0.5291920304298401),\n",
       " ('suggests', 0.5121132135391235),\n",
       " ('thinks', 0.5016119480133057),\n",
       " ('recommends', 0.49962735176086426),\n",
       " ('<sos>', 0.4889325201511383),\n",
       " ('advises', 0.4694846272468567),\n",
       " ('complains', 0.4649205505847931)]"
      ]
     },
     "execution_count": 7,
     "metadata": {},
     "output_type": "execute_result"
    }
   ],
   "source": [
    "corpus_model.most_similar('#person1#', topn=10)"
   ]
  },
  {
   "cell_type": "code",
   "execution_count": 8,
   "metadata": {},
   "outputs": [],
   "source": [
    "base_model.train(tokens, total_examples=total_examples, epochs=base_model.epochs)\n",
    "base_model_wv = base_model.wv\n"
   ]
  },
  {
   "cell_type": "code",
   "execution_count": 9,
   "metadata": {},
   "outputs": [
    {
     "data": {
      "text/plain": [
       "[('#person2#', 0.7208516597747803),\n",
       " ('sam', 0.6329665184020996),\n",
       " ('mike', 0.5963233709335327),\n",
       " ('#person3#', 0.5918983221054077),\n",
       " ('jeff', 0.5866713523864746),\n",
       " ('mary', 0.5842511653900146),\n",
       " ('alice', 0.5810478925704956),\n",
       " ('jack', 0.5808283090591431),\n",
       " ('julie', 0.5800818204879761),\n",
       " ('amy', 0.577274739742279)]"
      ]
     },
     "execution_count": 9,
     "metadata": {},
     "output_type": "execute_result"
    }
   ],
   "source": [
    "base_model_wv.most_similar('#person1#', topn=10)"
   ]
  },
  {
   "cell_type": "code",
   "execution_count": 37,
   "metadata": {},
   "outputs": [],
   "source": [
    "base_model_wv.save_word2vec_format('../models/GloVe-Word2Vec/glove.bin')"
   ]
  }
 ],
 "metadata": {
  "kernelspec": {
   "display_name": "Python 3",
   "language": "python",
   "name": "python3"
  },
  "language_info": {
   "codemirror_mode": {
    "name": "ipython",
    "version": 3
   },
   "file_extension": ".py",
   "mimetype": "text/x-python",
   "name": "python",
   "nbconvert_exporter": "python",
   "pygments_lexer": "ipython3",
   "version": "3.11.4"
  }
 },
 "nbformat": 4,
 "nbformat_minor": 2
}
