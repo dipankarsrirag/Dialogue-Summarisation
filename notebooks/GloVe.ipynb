{
 "cells": [
  {
   "cell_type": "code",
   "execution_count": 1,
   "metadata": {},
   "outputs": [],
   "source": [
    "from gensim.models import Word2Vec\n",
    "from gensim.models import KeyedVectors"
   ]
  },
  {
   "cell_type": "code",
   "execution_count": 2,
   "metadata": {},
   "outputs": [],
   "source": [
    "def load_glove_model(glove_file_path):\n",
    "    glove_model = KeyedVectors.load_word2vec_format(glove_file_path, binary=False, no_header=True)\n",
    "    return glove_model\n",
    "\n",
    "def get_corpus():\n",
    "    with open(\"../data/processed/glove_corpus\", \"r\") as f:\n",
    "        sentences = f.readlines()\n",
    "    return sentences"
   ]
  },
  {
   "cell_type": "code",
   "execution_count": 3,
   "metadata": {},
   "outputs": [],
   "source": [
    "sentences = get_corpus()\n",
    "tokens = [sent.split() for sent in sentences]"
   ]
  },
  {
   "cell_type": "code",
   "execution_count": 4,
   "metadata": {},
   "outputs": [],
   "source": [
    "base_model = Word2Vec(vector_size=300, min_count = 20, epochs=20)\n",
    "base_model.build_vocab(tokens)\n",
    "total_examples = base_model.corpus_count"
   ]
  },
  {
   "cell_type": "code",
   "execution_count": 5,
   "metadata": {},
   "outputs": [
    {
     "data": {
      "text/plain": [
       "[('perfect!', 0.19918687641620636),\n",
       " ('peking', 0.18685618042945862),\n",
       " ('speaking', 0.1850905865430832),\n",
       " ('inside.', 0.1844509094953537),\n",
       " ('chinese.', 0.17851804196834564),\n",
       " ('24', 0.17759983241558075),\n",
       " ('cake', 0.17517882585525513),\n",
       " ('help', 0.17481420934200287),\n",
       " ('education.', 0.17363373935222626),\n",
       " ('test', 0.17225077748298645)]"
      ]
     },
     "execution_count": 5,
     "metadata": {},
     "output_type": "execute_result"
    }
   ],
   "source": [
    "base_model.wv.most_similar('#person1#', topn=10)"
   ]
  },
  {
   "cell_type": "code",
   "execution_count": 6,
   "metadata": {},
   "outputs": [],
   "source": [
    "corpus_path = '../embeds/GloVe/glove.corpus.300d.txt'\n",
    "corpus_model = load_glove_model(corpus_path)\n",
    "base_model.build_vocab([list(corpus_model.key_to_index.keys())], update=True)"
   ]
  },
  {
   "cell_type": "code",
   "execution_count": 7,
   "metadata": {},
   "outputs": [
    {
     "data": {
      "text/plain": [
       "[('tells', 0.5800400376319885),\n",
       " ('asks', 0.5097846984863281),\n",
       " ('#person2#', 0.44948500394821167),\n",
       " ('thinks', 0.4351900815963745),\n",
       " ('suggests', 0.42950737476348877),\n",
       " ('<sos>', 0.40993642807006836),\n",
       " ('recommends', 0.4068792760372162),\n",
       " ('s', 0.3993434011936188),\n",
       " (\"#person2#'\", 0.3977951109409332),\n",
       " ('wants', 0.3972680866718292)]"
      ]
     },
     "execution_count": 7,
     "metadata": {},
     "output_type": "execute_result"
    }
   ],
   "source": [
    "corpus_model.most_similar('#person1#', topn=10)"
   ]
  },
  {
   "cell_type": "code",
   "execution_count": 8,
   "metadata": {},
   "outputs": [],
   "source": [
    "base_model.train(tokens, total_examples=total_examples, epochs=base_model.epochs)\n",
    "base_model_wv = base_model.wv\n"
   ]
  },
  {
   "cell_type": "code",
   "execution_count": 9,
   "metadata": {},
   "outputs": [
    {
     "data": {
      "text/plain": [
       "[('#person2#', 0.7265139818191528),\n",
       " ('sam', 0.663916289806366),\n",
       " ('kate', 0.624889075756073),\n",
       " ('#person3#', 0.6135007739067078),\n",
       " ('mike', 0.6108843684196472),\n",
       " ('shirley', 0.5966283082962036),\n",
       " ('jack', 0.5953760743141174),\n",
       " ('alice', 0.5870617032051086),\n",
       " ('ann', 0.5827251672744751),\n",
       " ('lucy', 0.5810714364051819)]"
      ]
     },
     "execution_count": 9,
     "metadata": {},
     "output_type": "execute_result"
    }
   ],
   "source": [
    "base_model_wv.most_similar('#person1#', topn=10)"
   ]
  },
  {
   "cell_type": "code",
   "execution_count": 10,
   "metadata": {},
   "outputs": [],
   "source": [
    "base_model_wv.save_word2vec_format('../models/GloVe-Word2Vec/glove.bin')"
   ]
  }
 ],
 "metadata": {
  "kernelspec": {
   "display_name": "Python 3",
   "language": "python",
   "name": "python3"
  },
  "language_info": {
   "codemirror_mode": {
    "name": "ipython",
    "version": 3
   },
   "file_extension": ".py",
   "mimetype": "text/x-python",
   "name": "python",
   "nbconvert_exporter": "python",
   "pygments_lexer": "ipython3",
   "version": "3.11.4"
  }
 },
 "nbformat": 4,
 "nbformat_minor": 2
}
