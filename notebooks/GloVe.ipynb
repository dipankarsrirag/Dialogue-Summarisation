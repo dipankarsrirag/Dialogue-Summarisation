{
 "cells": [
  {
   "cell_type": "code",
   "execution_count": 17,
   "metadata": {},
   "outputs": [],
   "source": [
    "from gensim.models import Word2Vec\n",
    "import pandas as pd\n",
    "from nltk.tokenize import WordPunctTokenizer\n",
    "from gensim.models import KeyedVectors\n",
    "import json"
   ]
  },
  {
   "cell_type": "code",
   "execution_count": 20,
   "metadata": {},
   "outputs": [],
   "source": [
    "def load_glove_model(glove_file_path):\n",
    "    glove_model = KeyedVectors.load_word2vec_format(glove_file_path, binary=False, no_header=True)\n",
    "    return glove_model\n",
    "\n",
    "def combine_columns(row):\n",
    "    return row['dialogue'] + ' ' + row['summary']"
   ]
  },
  {
   "cell_type": "code",
   "execution_count": 21,
   "metadata": {},
   "outputs": [],
   "source": [
    "train = pd.read_json('../data/raw/dialogsum/dialogsum.train.jsonl', lines = True)[['dialogue', 'summary']]"
   ]
  },
  {
   "cell_type": "code",
   "execution_count": 28,
   "metadata": {},
   "outputs": [],
   "source": [
    "tokenizer = WordPunctTokenizer()\n",
    "\n",
    "with open('../data/contractions.json', 'r') as f:\n",
    "    contractions = json.load(f)\n",
    "\n",
    "def fix_contractions(text):\n",
    "    tokens = text.split()\n",
    "    cleaned = []\n",
    "    for token in tokens:\n",
    "        cleaned.append(contractions.get(token, token))\n",
    "    return ' '.join(cleaned)\n",
    "\n",
    "def tokenize(text):\n",
    "    text = fix_contractions(text)\n",
    "    tokens = tokenizer.tokenize(text)\n",
    "    text = ' '.join(tokens).lower()\n",
    "    text = text.replace('# person1 #', '#person1#')\n",
    "    text = text.replace('# person2 #', '#person2#')\n",
    "    text = text.replace('# person3 #', '#person3#')\n",
    "    text = text.replace('# person4 #', '#person4#')\n",
    "    text = text.replace('# person5 #', '#person5#')\n",
    "    text = text.replace('# person6 #', '#person6#')\n",
    "    text = text.replace('# person7 #', '#person7#')\n",
    "    text = text.replace(' ,', ',')\n",
    "    text = text.replace(' .', '.')\n",
    "    text = text.replace(' ?', '?')\n",
    "    text = text.replace(' !', '!')\n",
    "    text = text.replace(\" ' \", \"'\")\n",
    "    text = text.replace(\"< \", \"<\")\n",
    "    text = text.replace(\" >\", \">\")\n",
    "    return text.split()"
   ]
  },
  {
   "cell_type": "code",
   "execution_count": 23,
   "metadata": {},
   "outputs": [],
   "source": [
    "train['summary'] = train['summary'].apply(lambda x: '<SOS> ' + x + ' <EOS>')\n"
   ]
  },
  {
   "cell_type": "code",
   "execution_count": 25,
   "metadata": {},
   "outputs": [],
   "source": [
    "concat = train.apply(combine_columns, axis=1)"
   ]
  },
  {
   "cell_type": "code",
   "execution_count": 29,
   "metadata": {},
   "outputs": [],
   "source": [
    "tokens = list(concat.apply(lambda x : tokenize(x)))"
   ]
  },
  {
   "cell_type": "code",
   "execution_count": 31,
   "metadata": {},
   "outputs": [],
   "source": [
    "base_model = Word2Vec(vector_size=300, min_count = 20, epochs=20)\n",
    "base_model.build_vocab(tokens)\n",
    "total_examples = base_model.corpus_count"
   ]
  },
  {
   "cell_type": "code",
   "execution_count": 32,
   "metadata": {},
   "outputs": [
    {
     "data": {
      "text/plain": [
       "[('will,', 0.19918687641620636),\n",
       " ('big,', 0.18685618042945862),\n",
       " ('across', 0.1850905865430832),\n",
       " ('admires', 0.1844509094953537),\n",
       " ('april', 0.17851804196834564),\n",
       " ('break.', 0.17759983241558075),\n",
       " ('article', 0.17517882585525513),\n",
       " ('no', 0.17481420934200287),\n",
       " ('fever.', 0.17363373935222626),\n",
       " ('(', 0.17225077748298645)]"
      ]
     },
     "execution_count": 32,
     "metadata": {},
     "output_type": "execute_result"
    }
   ],
   "source": [
    "base_model.wv.most_similar('#person1#', topn=10)"
   ]
  },
  {
   "cell_type": "code",
   "execution_count": 33,
   "metadata": {},
   "outputs": [],
   "source": [
    "corpus_path = '../embeds/GloVe/glove.corpus.300d.txt'\n",
    "corpus_model = load_glove_model(corpus_path)\n",
    "base_model.build_vocab([list(corpus_model.key_to_index.keys())], update=True)"
   ]
  },
  {
   "cell_type": "code",
   "execution_count": 34,
   "metadata": {},
   "outputs": [
    {
     "data": {
      "text/plain": [
       "[('tells', 0.668127179145813),\n",
       " ('asks', 0.6325467228889465),\n",
       " ('#person2#', 0.5329562425613403),\n",
       " ('wants', 0.5291920304298401),\n",
       " ('suggests', 0.5121132135391235),\n",
       " ('thinks', 0.5016119480133057),\n",
       " ('recommends', 0.49962735176086426),\n",
       " ('<sos>', 0.4889325201511383),\n",
       " ('advises', 0.4694846272468567),\n",
       " ('complains', 0.4649205505847931)]"
      ]
     },
     "execution_count": 34,
     "metadata": {},
     "output_type": "execute_result"
    }
   ],
   "source": [
    "corpus_model.most_similar('#person1#', topn=10)"
   ]
  },
  {
   "cell_type": "code",
   "execution_count": 35,
   "metadata": {},
   "outputs": [],
   "source": [
    "base_model.train(tokens, total_examples=total_examples, epochs=base_model.epochs)\n",
    "base_model_wv = base_model.wv\n"
   ]
  },
  {
   "cell_type": "code",
   "execution_count": 36,
   "metadata": {},
   "outputs": [
    {
     "data": {
      "text/plain": [
       "[('#person2#', 0.714061975479126),\n",
       " ('sam', 0.6278362274169922),\n",
       " ('mary', 0.6145195364952087),\n",
       " ('#person3#', 0.6067740321159363),\n",
       " ('lucy', 0.5954647064208984),\n",
       " ('mike', 0.595004141330719),\n",
       " ('jeff', 0.5943966507911682),\n",
       " ('jack', 0.5858264565467834),\n",
       " ('george', 0.5835283994674683),\n",
       " ('amy', 0.5760015845298767)]"
      ]
     },
     "execution_count": 36,
     "metadata": {},
     "output_type": "execute_result"
    }
   ],
   "source": [
    "base_model_wv.most_similar('#person1#', topn=10)"
   ]
  },
  {
   "cell_type": "code",
   "execution_count": 37,
   "metadata": {},
   "outputs": [],
   "source": [
    "base_model_wv.save_word2vec_format('../models/GloVe-Word2Vec/glove.bin')"
   ]
  }
 ],
 "metadata": {
  "kernelspec": {
   "display_name": "Python 3",
   "language": "python",
   "name": "python3"
  },
  "language_info": {
   "codemirror_mode": {
    "name": "ipython",
    "version": 3
   },
   "file_extension": ".py",
   "mimetype": "text/x-python",
   "name": "python",
   "nbconvert_exporter": "python",
   "pygments_lexer": "ipython3",
   "version": "3.11.4"
  }
 },
 "nbformat": 4,
 "nbformat_minor": 2
}
