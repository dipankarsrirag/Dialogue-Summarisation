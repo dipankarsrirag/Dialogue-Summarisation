{
 "cells": [
  {
   "cell_type": "code",
   "execution_count": 2,
   "metadata": {},
   "outputs": [],
   "source": [
    "from gensim.models import Word2Vec\n",
    "from gensim.models import KeyedVectors"
   ]
  },
  {
   "cell_type": "code",
   "execution_count": 3,
   "metadata": {},
   "outputs": [],
   "source": [
    "def load_glove_model(glove_file_path):\n",
    "    glove_model = KeyedVectors.load_word2vec_format(glove_file_path, binary=False, no_header=True)\n",
    "    return glove_model\n",
    "\n",
    "def get_corpus():\n",
    "    with open(\"../data/processed/glove_corpus\", \"r\") as f:\n",
    "        sentences = f.readlines()\n",
    "    return sentences"
   ]
  },
  {
   "cell_type": "code",
   "execution_count": 4,
   "metadata": {},
   "outputs": [],
   "source": [
    "sentences = get_corpus()\n",
    "tokens = [sent.split() for sent in sentences]"
   ]
  },
  {
   "cell_type": "code",
   "execution_count": 5,
   "metadata": {},
   "outputs": [],
   "source": [
    "base_model = Word2Vec(vector_size=300, min_count = 20, epochs=20)\n",
    "base_model.build_vocab(tokens)\n",
    "total_examples = base_model.corpus_count"
   ]
  },
  {
   "cell_type": "code",
   "execution_count": 18,
   "metadata": {},
   "outputs": [
    {
     "data": {
      "text/plain": [
       "[('perfect!', 0.19918687641620636),\n",
       " ('peking', 0.18685618042945862),\n",
       " ('speaking', 0.1850905865430832),\n",
       " ('inside.', 0.1844509094953537),\n",
       " ('chinese.', 0.17851804196834564),\n",
       " ('24', 0.17759983241558075),\n",
       " ('cake', 0.17517882585525513),\n",
       " ('help', 0.17481420934200287),\n",
       " ('education.', 0.17363373935222626),\n",
       " ('test', 0.17225077748298645)]"
      ]
     },
     "execution_count": 18,
     "metadata": {},
     "output_type": "execute_result"
    }
   ],
   "source": [
    "base_model.wv.most_similar('#person1#', topn=10)"
   ]
  },
  {
   "cell_type": "code",
   "execution_count": 8,
   "metadata": {},
   "outputs": [],
   "source": [
    "corpus_path = '../embeds/GloVe/glove.840B.300d.txt'\n",
    "corpus_model = load_glove_model(corpus_path)\n",
    "base_model.build_vocab([list(corpus_model.key_to_index.keys())], update=True)"
   ]
  },
  {
   "cell_type": "code",
   "execution_count": 13,
   "metadata": {},
   "outputs": [
    {
     "data": {
      "text/plain": [
       "[('person2', 0.7480211853981018),\n",
       " ('person3', 0.6154942512512207),\n",
       " ('person4', 0.5084606409072876),\n",
       " ('Person1', 0.4968014061450958),\n",
       " ('or2', 0.48314839601516724),\n",
       " ('myObj', 0.46837514638900757),\n",
       " ('Person2', 0.4672240614891052),\n",
       " ('myObject', 0.4668516516685486),\n",
       " ('member1', 0.4665958881378174),\n",
       " ('datarow', 0.4649624228477478)]"
      ]
     },
     "execution_count": 13,
     "metadata": {},
     "output_type": "execute_result"
    }
   ],
   "source": [
    "corpus_model.most_similar('person1', topn=10)"
   ]
  },
  {
   "cell_type": "code",
   "execution_count": 10,
   "metadata": {},
   "outputs": [],
   "source": [
    "fine_model = Word2Vec(vector_size=300, min_count = 20, epochs=20)\n",
    "fine_model.build_vocab(tokens)"
   ]
  },
  {
   "cell_type": "code",
   "execution_count": 11,
   "metadata": {},
   "outputs": [],
   "source": [
    "fine_model.train(tokens, total_examples=total_examples, epochs=fine_model.epochs)\n",
    "fine_model_wv = fine_model.wv"
   ]
  },
  {
   "cell_type": "code",
   "execution_count": 17,
   "metadata": {},
   "outputs": [
    {
     "data": {
      "text/plain": [
       "[('#person2#', 0.6981426477432251),\n",
       " ('sam', 0.6392289996147156),\n",
       " ('lucy', 0.616733729839325),\n",
       " ('jeff', 0.6109083294868469),\n",
       " ('#person3#', 0.6028733849525452),\n",
       " ('kate', 0.6001737713813782),\n",
       " ('amy', 0.5880383849143982),\n",
       " ('mary', 0.5794340968132019),\n",
       " ('mike', 0.578300416469574),\n",
       " ('alice', 0.5772162675857544)]"
      ]
     },
     "execution_count": 17,
     "metadata": {},
     "output_type": "execute_result"
    }
   ],
   "source": [
    "fine_model_wv.most_similar('#person1#', topn=10)"
   ]
  },
  {
   "cell_type": "code",
   "execution_count": null,
   "metadata": {},
   "outputs": [],
   "source": []
  }
 ],
 "metadata": {
  "kernelspec": {
   "display_name": "Python 3",
   "language": "python",
   "name": "python3"
  },
  "language_info": {
   "codemirror_mode": {
    "name": "ipython",
    "version": 3
   },
   "file_extension": ".py",
   "mimetype": "text/x-python",
   "name": "python",
   "nbconvert_exporter": "python",
   "pygments_lexer": "ipython3",
   "version": "3.11.4"
  }
 },
 "nbformat": 4,
 "nbformat_minor": 2
}
