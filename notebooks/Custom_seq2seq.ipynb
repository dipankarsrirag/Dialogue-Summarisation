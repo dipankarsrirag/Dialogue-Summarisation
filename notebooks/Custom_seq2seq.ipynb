{
 "cells": [
  {
   "cell_type": "code",
   "execution_count": 1,
   "metadata": {},
   "outputs": [],
   "source": [
    "from gensim.models import KeyedVectors\n",
    "import torch"
   ]
  },
  {
   "cell_type": "code",
   "execution_count": 2,
   "metadata": {},
   "outputs": [],
   "source": [
    "word_vectors = KeyedVectors.load_word2vec_format('../models/GloVe-Word2Vec/glove.bin')"
   ]
  },
  {
   "cell_type": "code",
   "execution_count": 3,
   "metadata": {},
   "outputs": [],
   "source": [
    "vocab = list(word_vectors.key_to_index.keys())\n",
    "vocab_size = len(vocab)\n",
    "embedding_dim = word_vectors.get_normed_vectors().shape[1]"
   ]
  },
  {
   "cell_type": "code",
   "execution_count": 4,
   "metadata": {},
   "outputs": [],
   "source": [
    "embedding_matrix = torch.zeros(vocab_size, embedding_dim)"
   ]
  },
  {
   "cell_type": "code",
   "execution_count": 5,
   "metadata": {},
   "outputs": [
    {
     "name": "stderr",
     "output_type": "stream",
     "text": [
      "/var/folders/_m/6pck5n390kx8prt9pb9qhpnh0000gn/T/ipykernel_19428/420451753.py:2: UserWarning: The given NumPy array is not writable, and PyTorch does not support non-writable tensors. This means writing to this tensor will result in undefined behavior. You may want to copy the array to protect its data or make it writable before converting it to a tensor. This type of warning will be suppressed for the rest of this program. (Triggered internally at /Users/runner/work/pytorch/pytorch/pytorch/torch/csrc/utils/tensor_numpy.cpp:212.)\n",
      "  embedding_matrix[i] = torch.Tensor(word_vectors[word])\n"
     ]
    }
   ],
   "source": [
    "for i, word in enumerate(vocab):\n",
    "    embedding_matrix[i] = torch.Tensor(word_vectors[word])"
   ]
  },
  {
   "cell_type": "code",
   "execution_count": 6,
   "metadata": {},
   "outputs": [
    {
     "data": {
      "text/plain": [
       "torch.Size([5660, 300])"
      ]
     },
     "execution_count": 6,
     "metadata": {},
     "output_type": "execute_result"
    }
   ],
   "source": [
    "embedding_matrix.shape"
   ]
  },
  {
   "cell_type": "code",
   "execution_count": 7,
   "metadata": {},
   "outputs": [
    {
     "data": {
      "text/plain": [
       "tensor([[ 0.5395, -0.3397,  0.3568,  ...,  0.0881, -1.0976,  0.0697],\n",
       "        [-0.3780,  0.6768, -0.3318,  ..., -0.7165,  0.0579, -0.0605],\n",
       "        [ 0.6405, -0.2307, -0.4165,  ...,  0.4990, -0.8740,  0.1894],\n",
       "        ...,\n",
       "        [ 0.0512,  0.6321, -0.0824,  ...,  0.3123,  0.2655,  0.2883],\n",
       "        [-0.1748,  0.0709, -0.3442,  ...,  0.2353, -0.1028, -0.0740],\n",
       "        [ 0.1164, -0.2611,  0.2577,  ...,  0.2721, -0.2964, -0.1017]])"
      ]
     },
     "execution_count": 7,
     "metadata": {},
     "output_type": "execute_result"
    }
   ],
   "source": [
    "embedding_matrix"
   ]
  },
  {
   "cell_type": "code",
   "execution_count": null,
   "metadata": {},
   "outputs": [],
   "source": []
  }
 ],
 "metadata": {
  "kernelspec": {
   "display_name": "Python 3",
   "language": "python",
   "name": "python3"
  },
  "language_info": {
   "codemirror_mode": {
    "name": "ipython",
    "version": 3
   },
   "file_extension": ".py",
   "mimetype": "text/x-python",
   "name": "python",
   "nbconvert_exporter": "python",
   "pygments_lexer": "ipython3",
   "version": "3.11.4"
  }
 },
 "nbformat": 4,
 "nbformat_minor": 2
}
